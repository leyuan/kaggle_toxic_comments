{
  "nbformat": 4,
  "nbformat_minor": 0,
  "metadata": {
    "kernelspec": {
      "display_name": "Python 3",
      "language": "python",
      "name": "python3"
    },
    "language_info": {
      "codemirror_mode": {
        "name": "ipython",
        "version": 3
      },
      "file_extension": ".py",
      "mimetype": "text/x-python",
      "name": "python",
      "nbconvert_exporter": "python",
      "pygments_lexer": "ipython3",
      "version": "3.7.7"
    },
    "toc": {
      "base_numbering": 1,
      "nav_menu": {},
      "number_sections": false,
      "sideBar": true,
      "skip_h1_title": true,
      "title_cell": "Table of Contents",
      "title_sidebar": "Contents",
      "toc_cell": false,
      "toc_position": {},
      "toc_section_display": true,
      "toc_window_display": false
    },
    "colab": {
      "name": "toxic_comments_EC.ipynb",
      "provenance": [],
      "collapsed_sections": []
    },
    "accelerator": "GPU"
  },
  "cells": [
    {
      "cell_type": "markdown",
      "metadata": {
        "id": "Rjhlc7Jft8Mu"
      },
      "source": [
        "# Setup"
      ]
    },
    {
      "cell_type": "code",
      "metadata": {
        "id": "qgK3upQl66Oe",
        "colab": {
          "base_uri": "https://localhost:8080/"
        },
        "outputId": "371381c2-8b48-41ef-a9b9-22fac4bfb6a8"
      },
      "source": [
        "from google.colab import drive\n",
        "drive.mount('/content/drive')"
      ],
      "execution_count": null,
      "outputs": [
        {
          "output_type": "stream",
          "text": [
            "Mounted at /content/drive\n"
          ],
          "name": "stdout"
        }
      ]
    },
    {
      "cell_type": "code",
      "metadata": {
        "id": "6b_P_CTo7pF8",
        "colab": {
          "base_uri": "https://localhost:8080/"
        },
        "outputId": "d43778da-eb3f-4b3e-831d-bb69643aa45f"
      },
      "source": [
        "!pip install kaggle"
      ],
      "execution_count": null,
      "outputs": [
        {
          "output_type": "stream",
          "text": [
            "Requirement already satisfied: kaggle in /usr/local/lib/python3.7/dist-packages (1.5.12)\n",
            "Requirement already satisfied: certifi in /usr/local/lib/python3.7/dist-packages (from kaggle) (2021.5.30)\n",
            "Requirement already satisfied: tqdm in /usr/local/lib/python3.7/dist-packages (from kaggle) (4.41.1)\n",
            "Requirement already satisfied: python-slugify in /usr/local/lib/python3.7/dist-packages (from kaggle) (5.0.2)\n",
            "Requirement already satisfied: requests in /usr/local/lib/python3.7/dist-packages (from kaggle) (2.23.0)\n",
            "Requirement already satisfied: python-dateutil in /usr/local/lib/python3.7/dist-packages (from kaggle) (2.8.1)\n",
            "Requirement already satisfied: urllib3 in /usr/local/lib/python3.7/dist-packages (from kaggle) (1.24.3)\n",
            "Requirement already satisfied: six>=1.10 in /usr/local/lib/python3.7/dist-packages (from kaggle) (1.15.0)\n",
            "Requirement already satisfied: text-unidecode>=1.3 in /usr/local/lib/python3.7/dist-packages (from python-slugify->kaggle) (1.3)\n",
            "Requirement already satisfied: idna<3,>=2.5 in /usr/local/lib/python3.7/dist-packages (from requests->kaggle) (2.10)\n",
            "Requirement already satisfied: chardet<4,>=3.0.2 in /usr/local/lib/python3.7/dist-packages (from requests->kaggle) (3.0.4)\n"
          ],
          "name": "stdout"
        }
      ]
    },
    {
      "cell_type": "code",
      "metadata": {
        "id": "1O5yapfEZurx"
      },
      "source": [
        "from absl import logging\n",
        "from tensorflow.keras import layers\n",
        "from sklearn.metrics import average_precision_score\n",
        "from sklearn.preprocessing import MultiLabelBinarizer\n",
        "\n",
        "import tensorflow as tf\n",
        "import tensorflow_hub as hub\n",
        "import matplotlib.pyplot as plt\n",
        "import numpy as np\n",
        "import os\n",
        "import pandas as pd\n",
        "import pickle\n",
        "import re\n",
        "import seaborn as sns\n",
        "import sklearn.metrics\n",
        "\n",
        "import warnings\n",
        "warnings.filterwarnings('ignore')"
      ],
      "execution_count": null,
      "outputs": []
    },
    {
      "cell_type": "markdown",
      "metadata": {
        "id": "xcn73h0ePOok"
      },
      "source": [
        "# Download Kaggle Data\n",
        "You don't need to run these commands every time, just once is enough to save the Kaggle data to Google Drive."
      ]
    },
    {
      "cell_type": "code",
      "metadata": {
        "id": "THMithHNM51Z"
      },
      "source": [
        "os.environ['KAGGLE_CONFIG_DIR'] = \"/content/drive/MyDrive/Data Science/Kaggle\""
      ],
      "execution_count": null,
      "outputs": []
    },
    {
      "cell_type": "code",
      "metadata": {
        "id": "9IsPWzvr3KMR",
        "colab": {
          "base_uri": "https://localhost:8080/"
        },
        "outputId": "7a1a7139-c9c1-4920-c8f8-26a2397dfedf"
      },
      "source": [
        "!kaggle competitions download -c jigsaw-toxic-comment-classification-challenge"
      ],
      "execution_count": null,
      "outputs": [
        {
          "output_type": "stream",
          "text": [
            "Warning: Looks like you're using an outdated API Version, please consider updating (server 1.5.12 / client 1.5.4)\n",
            "Downloading sample_submission.csv.zip to /content/drive/MyDrive/Data Science/Kaggle\n",
            "  0% 0.00/1.39M [00:00<?, ?B/s]\n",
            "100% 1.39M/1.39M [00:00<00:00, 47.0MB/s]\n",
            "Downloading test_labels.csv.zip to /content/drive/MyDrive/Data Science/Kaggle\n",
            "  0% 0.00/1.46M [00:00<?, ?B/s]\n",
            "100% 1.46M/1.46M [00:00<00:00, 78.4MB/s]\n",
            "Downloading train.csv.zip to /content/drive/MyDrive/Data Science/Kaggle\n",
            " 53% 14.0M/26.3M [00:00<00:00, 53.0MB/s]\n",
            "100% 26.3M/26.3M [00:00<00:00, 87.8MB/s]\n",
            "Downloading test.csv.zip to /content/drive/MyDrive/Data Science/Kaggle\n",
            " 85% 20.0M/23.4M [00:00<00:00, 84.0MB/s]\n",
            "100% 23.4M/23.4M [00:00<00:00, 93.0MB/s]\n"
          ],
          "name": "stdout"
        }
      ]
    },
    {
      "cell_type": "code",
      "metadata": {
        "id": "z6uioJyVM868"
      },
      "source": [
        "!ls"
      ],
      "execution_count": null,
      "outputs": []
    },
    {
      "cell_type": "code",
      "metadata": {
        "colab": {
          "base_uri": "https://localhost:8080/"
        },
        "id": "V6y6g62FM9EU",
        "outputId": "204b0cf2-79c3-4716-c35b-71a19cb3b9a1"
      },
      "source": [
        "#unzipping the zip files and deleting the zip files\n",
        "!unzip \\*.zip  && rm *.zip"
      ],
      "execution_count": null,
      "outputs": [
        {
          "output_type": "stream",
          "text": [
            "Archive:  test.csv.zip\n",
            "  inflating: test.csv                \n",
            "\n",
            "Archive:  sample_submission.csv.zip\n",
            "  inflating: sample_submission.csv   \n",
            "\n",
            "Archive:  test_labels.csv.zip\n",
            "  inflating: test_labels.csv         \n",
            "\n",
            "Archive:  train.csv.zip\n",
            "  inflating: train.csv               \n",
            "\n",
            "4 archives were successfully processed.\n"
          ],
          "name": "stdout"
        }
      ]
    },
    {
      "cell_type": "markdown",
      "metadata": {
        "id": "DXeRqZyAuSlO"
      },
      "source": [
        "# Collect Data"
      ]
    },
    {
      "cell_type": "code",
      "metadata": {
        "id": "5tq0Lpl-RfhM"
      },
      "source": [
        "path = \"/content/drive/MyDrive/Data Science/Kaggle\""
      ],
      "execution_count": null,
      "outputs": []
    },
    {
      "cell_type": "code",
      "metadata": {
        "id": "cVzAmYi166PS"
      },
      "source": [
        "train_df = pd.read_csv(path + '/train.csv', low_memory=False)\n",
        "test_df = pd.read_csv(path + '/test.csv', low_memory=False)\n",
        "test_labels_df = pd.read_csv(path + '/test_labels.csv', low_memory=False)"
      ],
      "execution_count": null,
      "outputs": []
    },
    {
      "cell_type": "code",
      "metadata": {
        "id": "NHryYCxF66PV",
        "colab": {
          "base_uri": "https://localhost:8080/"
        },
        "outputId": "db03e294-ac26-4152-8e2e-1b56c227e2c2"
      },
      "source": [
        "train_df.columns, test_df.columns, test_labels_df.columns"
      ],
      "execution_count": null,
      "outputs": [
        {
          "output_type": "execute_result",
          "data": {
            "text/plain": [
              "(Index(['id', 'comment_text', 'toxic', 'severe_toxic', 'obscene', 'threat',\n",
              "        'insult', 'identity_hate'],\n",
              "       dtype='object'),\n",
              " Index(['id', 'comment_text'], dtype='object'),\n",
              " Index(['id', 'toxic', 'severe_toxic', 'obscene', 'threat', 'insult',\n",
              "        'identity_hate'],\n",
              "       dtype='object'))"
            ]
          },
          "metadata": {
            "tags": []
          },
          "execution_count": 7
        }
      ]
    },
    {
      "cell_type": "code",
      "metadata": {
        "id": "2GKcNp6_ACsw",
        "colab": {
          "base_uri": "https://localhost:8080/"
        },
        "outputId": "b2fd63cb-b841-4229-a869-78ec98f19591"
      },
      "source": [
        "train_df.shape, test_df.shape, test_labels_df.shape"
      ],
      "execution_count": null,
      "outputs": [
        {
          "output_type": "execute_result",
          "data": {
            "text/plain": [
              "((159571, 8), (153164, 2), (153164, 7))"
            ]
          },
          "metadata": {
            "tags": []
          },
          "execution_count": 8
        }
      ]
    },
    {
      "cell_type": "code",
      "metadata": {
        "id": "VFV5Z51LQ16R",
        "colab": {
          "base_uri": "https://localhost:8080/"
        },
        "outputId": "ef092983-9b99-46ce-95eb-6e8ad9787752"
      },
      "source": [
        "comment_labels = list(test_labels_df.columns[1:])\n",
        "comment_labels"
      ],
      "execution_count": null,
      "outputs": [
        {
          "output_type": "execute_result",
          "data": {
            "text/plain": [
              "['toxic', 'severe_toxic', 'obscene', 'threat', 'insult', 'identity_hate']"
            ]
          },
          "metadata": {
            "tags": []
          },
          "execution_count": 9
        }
      ]
    },
    {
      "cell_type": "code",
      "metadata": {
        "id": "7QHAZzlpG-JQ",
        "colab": {
          "base_uri": "https://localhost:8080/"
        },
        "outputId": "3329a95f-8a48-401d-dd78-cc2f2387f2cc"
      },
      "source": [
        "train_length = int(0.7 * len(train_df))\n",
        "val_df = train_df[train_length:]\n",
        "train_df = train_df[:train_length]\n",
        "train_df.shape, val_df.shape"
      ],
      "execution_count": null,
      "outputs": [
        {
          "output_type": "execute_result",
          "data": {
            "text/plain": [
              "((111699, 8), (47872, 8))"
            ]
          },
          "metadata": {
            "tags": []
          },
          "execution_count": 10
        }
      ]
    },
    {
      "cell_type": "code",
      "metadata": {
        "colab": {
          "base_uri": "https://localhost:8080/",
          "height": 204
        },
        "id": "-F3yssAaVcgq",
        "outputId": "4e3392ec-f0da-4a04-b0d7-6da5dd55795b"
      },
      "source": [
        "train_df['labels'] = train_df[comment_labels].values.tolist()\n",
        "train_df['labels'] = np.array(train_df.labels)\n",
        "train_df.head()"
      ],
      "execution_count": null,
      "outputs": [
        {
          "output_type": "execute_result",
          "data": {
            "text/html": [
              "<div>\n",
              "<style scoped>\n",
              "    .dataframe tbody tr th:only-of-type {\n",
              "        vertical-align: middle;\n",
              "    }\n",
              "\n",
              "    .dataframe tbody tr th {\n",
              "        vertical-align: top;\n",
              "    }\n",
              "\n",
              "    .dataframe thead th {\n",
              "        text-align: right;\n",
              "    }\n",
              "</style>\n",
              "<table border=\"1\" class=\"dataframe\">\n",
              "  <thead>\n",
              "    <tr style=\"text-align: right;\">\n",
              "      <th></th>\n",
              "      <th>id</th>\n",
              "      <th>comment_text</th>\n",
              "      <th>toxic</th>\n",
              "      <th>severe_toxic</th>\n",
              "      <th>obscene</th>\n",
              "      <th>threat</th>\n",
              "      <th>insult</th>\n",
              "      <th>identity_hate</th>\n",
              "      <th>labels</th>\n",
              "    </tr>\n",
              "  </thead>\n",
              "  <tbody>\n",
              "    <tr>\n",
              "      <th>0</th>\n",
              "      <td>0000997932d777bf</td>\n",
              "      <td>Explanation\\nWhy the edits made under my usern...</td>\n",
              "      <td>0</td>\n",
              "      <td>0</td>\n",
              "      <td>0</td>\n",
              "      <td>0</td>\n",
              "      <td>0</td>\n",
              "      <td>0</td>\n",
              "      <td>[0, 0, 0, 0, 0, 0]</td>\n",
              "    </tr>\n",
              "    <tr>\n",
              "      <th>1</th>\n",
              "      <td>000103f0d9cfb60f</td>\n",
              "      <td>D'aww! He matches this background colour I'm s...</td>\n",
              "      <td>0</td>\n",
              "      <td>0</td>\n",
              "      <td>0</td>\n",
              "      <td>0</td>\n",
              "      <td>0</td>\n",
              "      <td>0</td>\n",
              "      <td>[0, 0, 0, 0, 0, 0]</td>\n",
              "    </tr>\n",
              "    <tr>\n",
              "      <th>2</th>\n",
              "      <td>000113f07ec002fd</td>\n",
              "      <td>Hey man, I'm really not trying to edit war. It...</td>\n",
              "      <td>0</td>\n",
              "      <td>0</td>\n",
              "      <td>0</td>\n",
              "      <td>0</td>\n",
              "      <td>0</td>\n",
              "      <td>0</td>\n",
              "      <td>[0, 0, 0, 0, 0, 0]</td>\n",
              "    </tr>\n",
              "    <tr>\n",
              "      <th>3</th>\n",
              "      <td>0001b41b1c6bb37e</td>\n",
              "      <td>\"\\nMore\\nI can't make any real suggestions on ...</td>\n",
              "      <td>0</td>\n",
              "      <td>0</td>\n",
              "      <td>0</td>\n",
              "      <td>0</td>\n",
              "      <td>0</td>\n",
              "      <td>0</td>\n",
              "      <td>[0, 0, 0, 0, 0, 0]</td>\n",
              "    </tr>\n",
              "    <tr>\n",
              "      <th>4</th>\n",
              "      <td>0001d958c54c6e35</td>\n",
              "      <td>You, sir, are my hero. Any chance you remember...</td>\n",
              "      <td>0</td>\n",
              "      <td>0</td>\n",
              "      <td>0</td>\n",
              "      <td>0</td>\n",
              "      <td>0</td>\n",
              "      <td>0</td>\n",
              "      <td>[0, 0, 0, 0, 0, 0]</td>\n",
              "    </tr>\n",
              "  </tbody>\n",
              "</table>\n",
              "</div>"
            ],
            "text/plain": [
              "                 id  ...              labels\n",
              "0  0000997932d777bf  ...  [0, 0, 0, 0, 0, 0]\n",
              "1  000103f0d9cfb60f  ...  [0, 0, 0, 0, 0, 0]\n",
              "2  000113f07ec002fd  ...  [0, 0, 0, 0, 0, 0]\n",
              "3  0001b41b1c6bb37e  ...  [0, 0, 0, 0, 0, 0]\n",
              "4  0001d958c54c6e35  ...  [0, 0, 0, 0, 0, 0]\n",
              "\n",
              "[5 rows x 9 columns]"
            ]
          },
          "metadata": {
            "tags": []
          },
          "execution_count": 11
        }
      ]
    },
    {
      "cell_type": "code",
      "metadata": {
        "colab": {
          "base_uri": "https://localhost:8080/",
          "height": 204
        },
        "id": "MiDy69llYlxo",
        "outputId": "c843043f-4420-4d56-d1ce-5bc9fbab274f"
      },
      "source": [
        "val_df['labels'] = val_df[comment_labels].values.tolist()\n",
        "val_df['labels'] = np.array(val_df.labels)\n",
        "val_df.head()"
      ],
      "execution_count": null,
      "outputs": [
        {
          "output_type": "execute_result",
          "data": {
            "text/html": [
              "<div>\n",
              "<style scoped>\n",
              "    .dataframe tbody tr th:only-of-type {\n",
              "        vertical-align: middle;\n",
              "    }\n",
              "\n",
              "    .dataframe tbody tr th {\n",
              "        vertical-align: top;\n",
              "    }\n",
              "\n",
              "    .dataframe thead th {\n",
              "        text-align: right;\n",
              "    }\n",
              "</style>\n",
              "<table border=\"1\" class=\"dataframe\">\n",
              "  <thead>\n",
              "    <tr style=\"text-align: right;\">\n",
              "      <th></th>\n",
              "      <th>id</th>\n",
              "      <th>comment_text</th>\n",
              "      <th>toxic</th>\n",
              "      <th>severe_toxic</th>\n",
              "      <th>obscene</th>\n",
              "      <th>threat</th>\n",
              "      <th>insult</th>\n",
              "      <th>identity_hate</th>\n",
              "      <th>labels</th>\n",
              "    </tr>\n",
              "  </thead>\n",
              "  <tbody>\n",
              "    <tr>\n",
              "      <th>111699</th>\n",
              "      <td>55858b89f99e9bda</td>\n",
              "      <td>Hope he dies \\n\\nNow this Atheist filth's wife...</td>\n",
              "      <td>1</td>\n",
              "      <td>0</td>\n",
              "      <td>0</td>\n",
              "      <td>1</td>\n",
              "      <td>1</td>\n",
              "      <td>0</td>\n",
              "      <td>[1, 0, 0, 1, 1, 0]</td>\n",
              "    </tr>\n",
              "    <tr>\n",
              "      <th>111700</th>\n",
              "      <td>5586a218c2393d06</td>\n",
              "      <td>What do you mean? Could you explain your point...</td>\n",
              "      <td>0</td>\n",
              "      <td>0</td>\n",
              "      <td>0</td>\n",
              "      <td>0</td>\n",
              "      <td>0</td>\n",
              "      <td>0</td>\n",
              "      <td>[0, 0, 0, 0, 0, 0]</td>\n",
              "    </tr>\n",
              "    <tr>\n",
              "      <th>111701</th>\n",
              "      <td>5588be8efb4c1515</td>\n",
              "      <td>\"\\nWell, the finals are just as popular(maybe ...</td>\n",
              "      <td>0</td>\n",
              "      <td>0</td>\n",
              "      <td>0</td>\n",
              "      <td>0</td>\n",
              "      <td>0</td>\n",
              "      <td>0</td>\n",
              "      <td>[0, 0, 0, 0, 0, 0]</td>\n",
              "    </tr>\n",
              "    <tr>\n",
              "      <th>111702</th>\n",
              "      <td>558a1f3d0f4fcc03</td>\n",
              "      <td>User: Johnleemk Please Stop vandalizing wiki u...</td>\n",
              "      <td>0</td>\n",
              "      <td>0</td>\n",
              "      <td>0</td>\n",
              "      <td>0</td>\n",
              "      <td>0</td>\n",
              "      <td>0</td>\n",
              "      <td>[0, 0, 0, 0, 0, 0]</td>\n",
              "    </tr>\n",
              "    <tr>\n",
              "      <th>111703</th>\n",
              "      <td>558e22e3c617327e</td>\n",
              "      <td>Greg's Apology\\n\\nA while back I added Greg's ...</td>\n",
              "      <td>0</td>\n",
              "      <td>0</td>\n",
              "      <td>0</td>\n",
              "      <td>0</td>\n",
              "      <td>0</td>\n",
              "      <td>0</td>\n",
              "      <td>[0, 0, 0, 0, 0, 0]</td>\n",
              "    </tr>\n",
              "  </tbody>\n",
              "</table>\n",
              "</div>"
            ],
            "text/plain": [
              "                      id  ...              labels\n",
              "111699  55858b89f99e9bda  ...  [1, 0, 0, 1, 1, 0]\n",
              "111700  5586a218c2393d06  ...  [0, 0, 0, 0, 0, 0]\n",
              "111701  5588be8efb4c1515  ...  [0, 0, 0, 0, 0, 0]\n",
              "111702  558a1f3d0f4fcc03  ...  [0, 0, 0, 0, 0, 0]\n",
              "111703  558e22e3c617327e  ...  [0, 0, 0, 0, 0, 0]\n",
              "\n",
              "[5 rows x 9 columns]"
            ]
          },
          "metadata": {
            "tags": []
          },
          "execution_count": 12
        }
      ]
    },
    {
      "cell_type": "code",
      "metadata": {
        "id": "LC9oL9sVUjfR"
      },
      "source": [
        "#YOU DON'T NEED TO RUN THIS EVERY TIME, valid.csv already exists in Google Drive\n",
        "val_df.to_csv(f'{path}/valid.csv', index = False)"
      ],
      "execution_count": null,
      "outputs": []
    },
    {
      "cell_type": "markdown",
      "metadata": {
        "id": "73e10BAPupHC"
      },
      "source": [
        "# Visualize Data"
      ]
    },
    {
      "cell_type": "code",
      "metadata": {
        "colab": {
          "base_uri": "https://localhost:8080/",
          "height": 321
        },
        "id": "2PtULfd4ZFdg",
        "outputId": "c4b7275c-2ec6-4f70-e5dc-edde21cf7935"
      },
      "source": [
        "train_df[comment_labels].sum().plot(kind='bar', edgecolor = 'dimgrey');\n",
        "plt.xticks(rotation = 90);"
      ],
      "execution_count": null,
      "outputs": [
        {
          "output_type": "display_data",
          "data": {
            "image/png": "[encoded data removed]",
            "text/plain": [
              "<Figure size 432x288 with 1 Axes>"
            ]
          },
          "metadata": {
            "tags": [],
            "needs_background": "light"
          }
        }
      ]
    },
    {
      "cell_type": "code",
      "metadata": {
        "colab": {
          "base_uri": "https://localhost:8080/",
          "height": 321
        },
        "id": "cDHljnMYZFn3",
        "outputId": "70af4007-21af-4412-d029-cbdfad828f37"
      },
      "source": [
        "val_df[comment_labels].sum().plot(kind='bar', edgecolor = 'dimgrey');\n",
        "plt.xticks(rotation = 90);"
      ],
      "execution_count": null,
      "outputs": [
        {
          "output_type": "display_data",
          "data": {
            "image/png": "[encoded data removed]",
            "text/plain": [
              "<Figure size 432x288 with 1 Axes>"
            ]
          },
          "metadata": {
            "tags": [],
            "needs_background": "light"
          }
        }
      ]
    },
    {
      "cell_type": "code",
      "metadata": {
        "colab": {
          "base_uri": "https://localhost:8080/"
        },
        "id": "S2VzFe1NZFtm",
        "outputId": "d66bfced-98f3-4423-df40-97b737fb1f63"
      },
      "source": [
        "NUM_LABELS = len(comment_labels)\n",
        "print(f'There are {NUM_LABELS} labels.')"
      ],
      "execution_count": null,
      "outputs": [
        {
          "output_type": "stream",
          "text": [
            "There are 6 labels.\n"
          ],
          "name": "stdout"
        }
      ]
    },
    {
      "cell_type": "markdown",
      "metadata": {
        "id": "dKIfm4zfutUx"
      },
      "source": [
        "# Create Datasets"
      ]
    },
    {
      "cell_type": "code",
      "metadata": {
        "id": "sVNuDlAzaFq8"
      },
      "source": [
        "def create_dataset(df, input_col, labels_col):\n",
        "  \"\"\"Take specific columns from a dataframe, and convert to NumPy array to be \n",
        "  taken by neural network.\"\"\"\n",
        "  inputs = np.array(df[input_col].tolist())\n",
        "  targets = np.array(df[labels_col].tolist())\n",
        "  targets = tf.cast(targets, tf.float32)\n",
        "  return inputs, targets"
      ],
      "execution_count": null,
      "outputs": []
    },
    {
      "cell_type": "code",
      "metadata": {
        "colab": {
          "base_uri": "https://localhost:8080/"
        },
        "id": "FGP05240aJLY",
        "outputId": "d0e83899-76ea-4657-af01-546ca46298a0"
      },
      "source": [
        "X_train, y_train = create_dataset(train_df, 'comment_text', 'labels')\n",
        "X_train, y_train"
      ],
      "execution_count": null,
      "outputs": [
        {
          "output_type": "execute_result",
          "data": {
            "text/plain": [
              "(array([\"Explanation\\nWhy the edits made under my username Hardcore Metallica Fan were reverted? They weren't vandalisms, just closure on some GAs after I voted at New York Dolls FAC. And please don't remove the template from the talk page since I'm retired now.89.205.38.27\",\n",
              "        \"D'aww! He matches this background colour I'm seemingly stuck with. Thanks.  (talk) 21:51, January 11, 2016 (UTC)\",\n",
              "        \"Hey man, I'm really not trying to edit war. It's just that this guy is constantly removing relevant information and talking to me through edits instead of my talk page. He seems to care more about the formatting than the actual info.\",\n",
              "        ...,\n",
              "        '\" \"\"victims\"\".  And even those insurrectionists who perished because they felt compelled to take matters into their own hands because they could/would no longer tolerate bondage or the dehumanization of their kin as human chattel  were they no less\"',\n",
              "        '\"\\n - The fact is, I was on an Administrator\\'s talk page if he had felt that I was being overly aggressive or harassing him he would have told me so. He didn\\'t, and you assumed that his judgement was impaired. Thus, you blocked me. You talked with me. And it\\'s better if you don\\'t talk about guidance. It doesn\\'t suit you. here \"',\n",
              "        '\"\\n\\nThat\\'s not how I read it.  I read, \"\"it is a valid opinion to be held by an individual so inclined, but it is not conducive to building an encyclopedia.\"\"  I also saw your immediate declaration that this was sufficient evidence to immediately start adding your coveted sentence at will, followed up with exactly zero people supporting you.\\nI personally have little interest in spending much time editing these types of pages, however I do have a problem with a singular individual on such a driven mission to insert a highly political sentence in the lead of as many articles as he or she can get away with.  I value Wikipedia for having the ability to bring people together to reach a consensus on issues through a balanced discussion.  Personal attacks combined with an obvious political agenda is not the way my friend.   \"'],\n",
              "       dtype='<U5000'), <tf.Tensor: shape=(111699, 6), dtype=float32, numpy=\n",
              " array([[0., 0., 0., 0., 0., 0.],\n",
              "        [0., 0., 0., 0., 0., 0.],\n",
              "        [0., 0., 0., 0., 0., 0.],\n",
              "        ...,\n",
              "        [0., 0., 0., 0., 0., 0.],\n",
              "        [0., 0., 0., 0., 0., 0.],\n",
              "        [0., 0., 0., 0., 0., 0.]], dtype=float32)>)"
            ]
          },
          "metadata": {
            "tags": []
          },
          "execution_count": 17
        }
      ]
    },
    {
      "cell_type": "code",
      "metadata": {
        "colab": {
          "base_uri": "https://localhost:8080/"
        },
        "id": "k7G3kBVcaL_l",
        "outputId": "8cc451aa-6f21-4599-8d75-05364a41308a"
      },
      "source": [
        "X_val, y_val = create_dataset(val_df, 'comment_text', 'labels')\n",
        "X_val, y_val"
      ],
      "execution_count": null,
      "outputs": [
        {
          "output_type": "execute_result",
          "data": {
            "text/plain": [
              "(array([\"Hope he dies \\n\\nNow this Atheist filth's wife has gone, he should follow soon and give us all a rest from him Paedophillic behaviour.\",\n",
              "        'What do you mean? Could you explain your point further pls ? JohnQ',\n",
              "        '\"\\nWell, the finals are just as popular(maybe a percent lower) as the World Cup Finals is in Europe, so that should give you some idea and as the World Cup 2006 top 4 teams (6 of the top 8 and 10 of the top 16) were European, so if you win you can almost claim that you are the best in the world. For example, France took the FIFA world ranking top spot not when they won the World Cup 98, but when they won the Euro 2000.  \\xa0  \\n\\n\"',\n",
              "        ...,\n",
              "        'Spitzer \\n\\nUmm, theres no actual article for prostitution ring.  - Crunch Captain.',\n",
              "        'And it looks like it was actually you who put on the speedy to have the first version deleted now that I look at it.',\n",
              "        '\"\\nAnd ... I really don\\'t think you understand.  I came here and my idea was bad right away.  What kind of community goes \"\"you have bad ideas\"\" go away, instead of helping rewrite them.   \"'],\n",
              "       dtype='<U5000'), <tf.Tensor: shape=(47872, 6), dtype=float32, numpy=\n",
              " array([[1., 0., 0., 1., 1., 0.],\n",
              "        [0., 0., 0., 0., 0., 0.],\n",
              "        [0., 0., 0., 0., 0., 0.],\n",
              "        ...,\n",
              "        [0., 0., 0., 0., 0., 0.],\n",
              "        [0., 0., 0., 0., 0., 0.],\n",
              "        [0., 0., 0., 0., 0., 0.]], dtype=float32)>)"
            ]
          },
          "metadata": {
            "tags": []
          },
          "execution_count": 18
        }
      ]
    },
    {
      "cell_type": "code",
      "metadata": {
        "colab": {
          "base_uri": "https://localhost:8080/"
        },
        "id": "E6oP__4-uwdq",
        "outputId": "a1955f58-31c0-43ca-d4c8-f17c42b34044"
      },
      "source": [
        "X_test = np.array(test_df['comment_text'].tolist())\n",
        "X_test"
      ],
      "execution_count": null,
      "outputs": [
        {
          "output_type": "execute_result",
          "data": {
            "text/plain": [
              "array([\"Yo bitch Ja Rule is more succesful then you'll ever be whats up with you and hating you sad mofuckas...i should bitch slap ur pethedic white faces and get you to kiss my ass you guys sicken me. Ja rule is about pride in da music man. dont diss that shit on him. and nothin is wrong bein like tupac he was a brother too...fuckin white boys get things right next time.,\",\n",
              "       '== From RfC == \\n\\n The title is fine as it is, IMO.',\n",
              "       '\" \\n\\n == Sources == \\n\\n * Zawe Ashton on Lapland —  /  \"', ...,\n",
              "       '\" \\n\\n == Okinotorishima categories == \\n\\n I see your changes and agree this is \"\"more correct.\"\"  I had gotten confused, but then found this: \\n :... while acknowledging Japan\\'s territorial rights to Okinotorishima itself ... \\n However, is there a category for  \\n :... did not acknowledge Japan\\'s claim to an exclusive economic zone (EEZ) stemming from Okinotorishima. \\n That is, is there a category for \"\"disputed EEZ\"\"s?   \"',\n",
              "       '\" \\n\\n == \"\"One of the founding nations of the EU - Germany - has a Law of Return quite similar to Israel\\'s\"\" == \\n\\n This isn\\'t actually true, is it? Germany allows people whose ancestors were citizens of Germany to return, but AFAIK it does not allow the descendants of Anglo-Saxons to \"\"return\"\" to Angeln and Saxony. Israel, by contrast, allows all Jews to \"\"return\"\" to Israel, even if they can\\'t trace a particular ancestral line to anyone who lived in the modern state or even mandate Palestine. — \"',\n",
              "       '\" \\n :::Stop already. Your bullshit is not welcome here. I\\'m no fool, and if you think that kind of explination is enough, well pity you.    \"'],\n",
              "      dtype='<U5000')"
            ]
          },
          "metadata": {
            "tags": []
          },
          "execution_count": 19
        }
      ]
    },
    {
      "cell_type": "markdown",
      "metadata": {
        "id": "ccFM0e0yvVYY"
      },
      "source": [
        "# Train & Tune Model\n",
        "Only run the code in this section if you are training a new neural network."
      ]
    },
    {
      "cell_type": "code",
      "metadata": {
        "id": "JoeCXagl5y_S"
      },
      "source": [
        "def run_model(hidden_nodes, learning_rate, epochs, dropout, l2, loss_fn, metric):\n",
        "  \"\"\"Build, fit and evaluate model given hyperparameters.\n",
        "  Returns loss and accuracy.\"\"\"\n",
        "  model = tf.keras.Sequential([\n",
        "    feature_layer,\n",
        "    layers.Dense(hidden_nodes, activation='relu', kernel_regularizer=tf.keras.regularizers.L2(l2=l2), name='hidden_layer'),\n",
        "    layers.Dropout(dropout),\n",
        "    layers.Dense(NUM_LABELS, activation='sigmoid', kernel_regularizer=tf.keras.regularizers.L2(l2=l2), name='output')\n",
        "    ])\n",
        "  \n",
        "  model.compile(optimizer=tf.keras.optimizers.Adam(learning_rate=learning_rate),\n",
        "              loss=loss_fn,\n",
        "              metrics=metric)\n",
        "  \n",
        "  history = model.fit(X_train,\n",
        "                    y_train,\n",
        "                    epochs=epochs,\n",
        "                    batch_size=64,\n",
        "                    validation_data=(X_val, y_val),\n",
        "                    verbose=1,\n",
        "                    callbacks = [callback])\n",
        "  \n",
        "  loss, accuracy = model.evaluate(X_val, y_val)\n",
        "  results = {'loss': loss, 'accuracy': accuracy}\n",
        "\n",
        "  return results"
      ],
      "execution_count": null,
      "outputs": []
    },
    {
      "cell_type": "code",
      "metadata": {
        "colab": {
          "base_uri": "https://localhost:8080/",
          "height": 1000
        },
        "id": "SIuSW1CI5zH5",
        "outputId": "a5de87fa-102e-4903-f47a-f1857117e6b6"
      },
      "source": [
        "#DON'T RUN UNLESS YOU ARE TUNING HYPERPARAMETERS!\n",
        "hidden_nodes = [32, 64, 128]\n",
        "learning_rates = np.linspace(1e-5, 1e-4, 3)\n",
        "tuning_epochs = 3 \n",
        "loss_fns = ['binary_crossentropy']\n",
        "metrics = ['AUC']\n",
        "dropouts = np.linspace(0, 0.9, 3)\n",
        "l2s = [0.01, 0.015, 0.02]\n",
        "\n",
        "tuning_results = {'hidden_nodes': [], 'learning_rates': [], 'dropouts': [], 'l2s': [], 'loss_fns': [], 'metrics': [], 'val_loss': [], 'val_accuracy': []}\n",
        "\n",
        "for h in hidden_nodes:\n",
        "  for r in learning_rates:\n",
        "    for d in dropouts:\n",
        "      for l in loss_fns:\n",
        "        for l2 in l2s:\n",
        "          for m in metrics:\n",
        "            results = run_model(h, r, tuning_epochs, d, l2, l, m)\n",
        "            tuning_results['hidden_nodes'].append(h)\n",
        "            tuning_results['learning_rates'].append(r)\n",
        "            tuning_results['dropouts'].append(d)\n",
        "            tuning_results['l2s'].append(l2)\n",
        "            tuning_results['loss_fns'].append(l)\n",
        "            tuning_results['metrics'].append(m)\n",
        "            tuning_results['val_loss'].append(results['loss'])\n",
        "            tuning_results['val_accuracy'].append(results['accuracy'])\n",
        "\n",
        "tuning_results_df = pd.DataFrame(tuning_results)"
      ],
      "execution_count": null,
      "outputs": [
        {
          "output_type": "stream",
          "text": [
            "Epoch 1/3\n",
            "1746/1746 [==============================] - 124s 71ms/step - loss: 1.2459 - auc: 0.5789 - val_loss: 1.1166 - val_auc: 0.6427\n",
            "Epoch 2/3\n",
            "1746/1746 [==============================] - 120s 69ms/step - loss: 1.0126 - auc: 0.6726 - val_loss: 0.9185 - val_auc: 0.7137\n",
            "Epoch 3/3\n",
            "1746/1746 [==============================] - 118s 68ms/step - loss: 0.8415 - auc: 0.7098 - val_loss: 0.7716 - val_auc: 0.7343\n",
            "1496/1496 [==============================] - 39s 26ms/step - loss: 0.7716 - auc: 0.7343\n",
            "Epoch 1/3\n",
            "1746/1746 [==============================] - 111s 63ms/step - loss: 1.5438 - auc: 0.5004 - val_loss: 1.3553 - val_auc: 0.5473\n",
            "Epoch 2/3\n",
            "1746/1746 [==============================] - 109s 62ms/step - loss: 1.2079 - auc: 0.5690 - val_loss: 1.0768 - val_auc: 0.5967\n",
            "Epoch 3/3\n",
            "1746/1746 [==============================] - 110s 63ms/step - loss: 0.9744 - auc: 0.5918 - val_loss: 0.8838 - val_auc: 0.6062\n",
            "1496/1496 [==============================] - 36s 24ms/step - loss: 0.8838 - auc: 0.6062\n",
            "Epoch 1/3\n",
            "1746/1746 [==============================] - 107s 61ms/step - loss: 1.8098 - auc: 0.4444 - val_loss: 1.5648 - val_auc: 0.4473\n",
            "Epoch 2/3\n",
            "1746/1746 [==============================] - 105s 60ms/step - loss: 1.3741 - auc: 0.4535 - val_loss: 1.2053 - val_auc: 0.4629\n",
            "Epoch 3/3\n",
            "1746/1746 [==============================] - 104s 60ms/step - loss: 1.0756 - auc: 0.4628 - val_loss: 0.9619 - val_auc: 0.4730\n",
            "1496/1496 [==============================] - 34s 22ms/step - loss: 0.9619 - auc: 0.4730\n",
            "Epoch 1/3\n",
            "1746/1746 [==============================] - 104s 59ms/step - loss: 1.2716 - auc: 0.4587 - val_loss: 1.1424 - val_auc: 0.4526\n",
            "Epoch 2/3\n",
            "1746/1746 [==============================] - 102s 59ms/step - loss: 1.0397 - auc: 0.4915 - val_loss: 0.9464 - val_auc: 0.5226\n",
            "Epoch 3/3\n",
            "1746/1746 [==============================] - 103s 59ms/step - loss: 0.8718 - auc: 0.5312 - val_loss: 0.8026 - val_auc: 0.5832\n",
            "1496/1496 [==============================] - 34s 22ms/step - loss: 0.8026 - auc: 0.5832\n",
            "Epoch 1/3\n",
            "1746/1746 [==============================] - 104s 59ms/step - loss: 1.5162 - auc: 0.4979 - val_loss: 1.3267 - val_auc: 0.5274\n",
            "Epoch 2/3\n",
            "1746/1746 [==============================] - 103s 59ms/step - loss: 1.1781 - auc: 0.5308 - val_loss: 1.0448 - val_auc: 0.5608\n",
            "Epoch 3/3\n",
            "1746/1746 [==============================] - 103s 59ms/step - loss: 0.9416 - auc: 0.5464 - val_loss: 0.8477 - val_auc: 0.5862\n",
            "1496/1496 [==============================] - 34s 22ms/step - loss: 0.8477 - auc: 0.5862\n",
            "Epoch 1/3\n",
            "1746/1746 [==============================] - 104s 59ms/step - loss: 1.8369 - auc: 0.6153 - val_loss: 1.5851 - val_auc: 0.6988\n",
            "Epoch 2/3\n",
            "1746/1746 [==============================] - 103s 59ms/step - loss: 1.3905 - auc: 0.6119 - val_loss: 1.2173 - val_auc: 0.6686\n",
            "Epoch 3/3\n",
            "1746/1746 [==============================] - 104s 59ms/step - loss: 1.0851 - auc: 0.5825 - val_loss: 0.9677 - val_auc: 0.6267\n",
            "1496/1496 [==============================] - 35s 23ms/step - loss: 0.9677 - auc: 0.6267\n",
            "Epoch 1/3\n",
            "1746/1746 [==============================] - 107s 61ms/step - loss: 1.2446 - auc: 0.5289 - val_loss: 1.1191 - val_auc: 0.6131\n",
            "Epoch 2/3\n",
            "1746/1746 [==============================] - 105s 60ms/step - loss: 1.0231 - auc: 0.5212 - val_loss: 0.9290 - val_auc: 0.5851\n",
            "Epoch 3/3\n",
            "1746/1746 [==============================] - 106s 61ms/step - loss: 0.8624 - auc: 0.5151 - val_loss: 0.7891 - val_auc: 0.5681\n",
            "1496/1496 [==============================] - 34s 23ms/step - loss: 0.7891 - auc: 0.5681\n",
            "Epoch 1/3\n",
            "1746/1746 [==============================] - 107s 61ms/step - loss: 1.5302 - auc: 0.4989 - val_loss: 1.3461 - val_auc: 0.4788\n",
            "Epoch 2/3\n",
            "1746/1746 [==============================] - 106s 60ms/step - loss: 1.2062 - auc: 0.5034 - val_loss: 1.0746 - val_auc: 0.5037\n",
            "Epoch 3/3\n",
            "1746/1746 [==============================] - 105s 60ms/step - loss: 0.9793 - auc: 0.5006 - val_loss: 0.8843 - val_auc: 0.5329\n",
            "1496/1496 [==============================] - 35s 23ms/step - loss: 0.8843 - auc: 0.5329\n",
            "Epoch 1/3\n",
            "1746/1746 [==============================] - 109s 62ms/step - loss: 1.8213 - auc: 0.4915 - val_loss: 1.5782 - val_auc: 0.4166\n",
            "Epoch 2/3\n",
            "1746/1746 [==============================] - 107s 61ms/step - loss: 1.3931 - auc: 0.4868 - val_loss: 1.2267 - val_auc: 0.4073\n",
            "Epoch 3/3\n",
            "1746/1746 [==============================] - 106s 61ms/step - loss: 1.1014 - auc: 0.4869 - val_loss: 0.9877 - val_auc: 0.4260\n",
            "1496/1496 [==============================] - 35s 23ms/step - loss: 0.9877 - auc: 0.4260\n",
            "Epoch 1/3\n",
            "1746/1746 [==============================] - 108s 61ms/step - loss: 0.8346 - auc: 0.5065 - val_loss: 0.5164 - val_auc: 0.6188\n",
            "Epoch 2/3\n",
            "1746/1746 [==============================] - 109s 62ms/step - loss: 0.4194 - auc: 0.6523 - val_loss: 0.3572 - val_auc: 0.7479\n",
            "Epoch 3/3\n",
            "1746/1746 [==============================] - 107s 61ms/step - loss: 0.3215 - auc: 0.7830 - val_loss: 0.2905 - val_auc: 0.8274\n",
            "1496/1496 [==============================] - 37s 24ms/step - loss: 0.2905 - auc: 0.8274\n",
            "Epoch 1/3\n",
            "1746/1746 [==============================] - 110s 63ms/step - loss: 1.0131 - auc: 0.5010 - val_loss: 0.6338 - val_auc: 0.5876\n",
            "Epoch 2/3\n",
            "1746/1746 [==============================] - 110s 63ms/step - loss: 0.5128 - auc: 0.5978 - val_loss: 0.4324 - val_auc: 0.6917\n",
            "Epoch 3/3\n",
            "1746/1746 [==============================] - 110s 63ms/step - loss: 0.3855 - auc: 0.7191 - val_loss: 0.3455 - val_auc: 0.7805\n",
            "1496/1496 [==============================] - 37s 25ms/step - loss: 0.3455 - auc: 0.7805\n",
            "Epoch 1/3\n",
            "1746/1746 [==============================] - 111s 63ms/step - loss: 1.1681 - auc: 0.5401 - val_loss: 0.7133 - val_auc: 0.6657\n",
            "Epoch 2/3\n",
            "1746/1746 [==============================] - 109s 62ms/step - loss: 0.5866 - auc: 0.6093 - val_loss: 0.5006 - val_auc: 0.7073\n",
            "Epoch 3/3\n",
            "1746/1746 [==============================] - 111s 63ms/step - loss: 0.4483 - auc: 0.7025 - val_loss: 0.4033 - val_auc: 0.7574\n",
            "1496/1496 [==============================] - 37s 24ms/step - loss: 0.4033 - auc: 0.7574\n",
            "Epoch 1/3\n",
            "1746/1746 [==============================] - 114s 64ms/step - loss: 0.8529 - auc: 0.5028 - val_loss: 0.5387 - val_auc: 0.5972\n",
            "Epoch 2/3\n",
            "1746/1746 [==============================] - 111s 63ms/step - loss: 0.4488 - auc: 0.6020 - val_loss: 0.3755 - val_auc: 0.7188\n",
            "Epoch 3/3\n",
            "1746/1746 [==============================] - 110s 63ms/step - loss: 0.3481 - auc: 0.6645 - val_loss: 0.3062 - val_auc: 0.8103\n",
            "1496/1496 [==============================] - 36s 24ms/step - loss: 0.3062 - auc: 0.8103\n",
            "Epoch 1/3\n",
            "1746/1746 [==============================] - 110s 62ms/step - loss: 1.0002 - auc: 0.5550 - val_loss: 0.6071 - val_auc: 0.7069\n",
            "Epoch 2/3\n",
            "1746/1746 [==============================] - 108s 62ms/step - loss: 0.4984 - auc: 0.6369 - val_loss: 0.4177 - val_auc: 0.7610\n",
            "Epoch 3/3\n",
            "1746/1746 [==============================] - 108s 62ms/step - loss: 0.3818 - auc: 0.6738 - val_loss: 0.3370 - val_auc: 0.8005\n",
            "1496/1496 [==============================] - 35s 23ms/step - loss: 0.3370 - auc: 0.8005\n",
            "Epoch 1/3\n",
            "1746/1746 [==============================] - 106s 60ms/step - loss: 1.1741 - auc: 0.5307 - val_loss: 0.7100 - val_auc: 0.6215\n",
            "Epoch 2/3\n",
            "1746/1746 [==============================] - 104s 60ms/step - loss: 0.5831 - auc: 0.5724 - val_loss: 0.4891 - val_auc: 0.6933\n",
            "Epoch 3/3\n",
            "1746/1746 [==============================] - 105s 60ms/step - loss: 0.4419 - auc: 0.6126 - val_loss: 0.3885 - val_auc: 0.7652\n",
            "1496/1496 [==============================] - 34s 23ms/step - loss: 0.3885 - auc: 0.7652\n",
            "Epoch 1/3\n",
            "1746/1746 [==============================] - 107s 61ms/step - loss: 0.8942 - auc: 0.5437 - val_loss: 0.5887 - val_auc: 0.7117\n",
            "Epoch 2/3\n",
            "1746/1746 [==============================] - 105s 60ms/step - loss: 0.5278 - auc: 0.5554 - val_loss: 0.4020 - val_auc: 0.7642\n",
            "Epoch 3/3\n",
            "1746/1746 [==============================] - 105s 60ms/step - loss: 0.4227 - auc: 0.5628 - val_loss: 0.3220 - val_auc: 0.8184\n",
            "1496/1496 [==============================] - 34s 23ms/step - loss: 0.3220 - auc: 0.8184\n",
            "Epoch 1/3\n",
            "1746/1746 [==============================] - 107s 61ms/step - loss: 1.0376 - auc: 0.5176 - val_loss: 0.6746 - val_auc: 0.6558\n",
            "Epoch 2/3\n",
            "1746/1746 [==============================] - 106s 60ms/step - loss: 0.5917 - auc: 0.5360 - val_loss: 0.4829 - val_auc: 0.7137\n",
            "Epoch 3/3\n",
            "1746/1746 [==============================] - 107s 61ms/step - loss: 0.4796 - auc: 0.5416 - val_loss: 0.3879 - val_auc: 0.7762\n",
            "1496/1496 [==============================] - 36s 23ms/step - loss: 0.3879 - auc: 0.7762\n",
            "Epoch 1/3\n",
            "1746/1746 [==============================] - 107s 61ms/step - loss: 1.1674 - auc: 0.5178 - val_loss: 0.7045 - val_auc: 0.7234\n",
            "Epoch 2/3\n",
            "1746/1746 [==============================] - 106s 60ms/step - loss: 0.6029 - auc: 0.5429 - val_loss: 0.4901 - val_auc: 0.7562\n",
            "Epoch 3/3\n",
            "1746/1746 [==============================] - 106s 61ms/step - loss: 0.4742 - auc: 0.5521 - val_loss: 0.3889 - val_auc: 0.7870\n",
            "1496/1496 [==============================] - 35s 23ms/step - loss: 0.3889 - auc: 0.7870\n",
            "Epoch 1/3\n",
            "1746/1746 [==============================] - 107s 61ms/step - loss: 0.6585 - auc: 0.6024 - val_loss: 0.3852 - val_auc: 0.7547\n",
            "Epoch 2/3\n",
            "1746/1746 [==============================] - 106s 61ms/step - loss: 0.3249 - auc: 0.7783 - val_loss: 0.2796 - val_auc: 0.8279\n",
            "Epoch 3/3\n",
            "1746/1746 [==============================] - 106s 61ms/step - loss: 0.2522 - auc: 0.8360 - val_loss: 0.2298 - val_auc: 0.8436\n",
            "1496/1496 [==============================] - 35s 23ms/step - loss: 0.2298 - auc: 0.8436\n",
            "Epoch 1/3\n",
            "1746/1746 [==============================] - 107s 61ms/step - loss: 0.7919 - auc: 0.5741 - val_loss: 0.4530 - val_auc: 0.7299\n",
            "Epoch 2/3\n",
            "1746/1746 [==============================] - 104s 60ms/step - loss: 0.3715 - auc: 0.7435 - val_loss: 0.3110 - val_auc: 0.8114\n",
            "Epoch 3/3\n",
            "1746/1746 [==============================] - 104s 59ms/step - loss: 0.2761 - auc: 0.8028 - val_loss: 0.2489 - val_auc: 0.8176\n",
            "1496/1496 [==============================] - 35s 23ms/step - loss: 0.2489 - auc: 0.8176\n",
            "Epoch 1/3\n",
            "1746/1746 [==============================] - 106s 60ms/step - loss: 0.9135 - auc: 0.5214 - val_loss: 0.4994 - val_auc: 0.6998\n",
            "Epoch 2/3\n",
            "1746/1746 [==============================] - 105s 60ms/step - loss: 0.4019 - auc: 0.6895 - val_loss: 0.3317 - val_auc: 0.8017\n",
            "Epoch 3/3\n",
            "1746/1746 [==============================] - 104s 60ms/step - loss: 0.2933 - auc: 0.7778 - val_loss: 0.2636 - val_auc: 0.8127\n",
            "1496/1496 [==============================] - 34s 23ms/step - loss: 0.2636 - auc: 0.8127\n",
            "Epoch 1/3\n",
            "1746/1746 [==============================] - 106s 60ms/step - loss: 0.6686 - auc: 0.5390 - val_loss: 0.3848 - val_auc: 0.7066\n",
            "Epoch 2/3\n",
            "1746/1746 [==============================] - 105s 60ms/step - loss: 0.3317 - auc: 0.6686 - val_loss: 0.2765 - val_auc: 0.8397\n",
            "Epoch 3/3\n",
            "1746/1746 [==============================] - 105s 60ms/step - loss: 0.2583 - auc: 0.7125 - val_loss: 0.2286 - val_auc: 0.8424\n",
            "1496/1496 [==============================] - 35s 23ms/step - loss: 0.2286 - auc: 0.8424\n",
            "Epoch 1/3\n",
            "1746/1746 [==============================] - 107s 61ms/step - loss: 0.7800 - auc: 0.5484 - val_loss: 0.4343 - val_auc: 0.7092\n",
            "Epoch 2/3\n",
            "1746/1746 [==============================] - 106s 61ms/step - loss: 0.3657 - auc: 0.6525 - val_loss: 0.3034 - val_auc: 0.8185\n",
            "Epoch 3/3\n",
            "1746/1746 [==============================] - 105s 60ms/step - loss: 0.2803 - auc: 0.6738 - val_loss: 0.2479 - val_auc: 0.8212\n",
            "1496/1496 [==============================] - 35s 23ms/step - loss: 0.2479 - auc: 0.8212\n",
            "Epoch 1/3\n",
            "1746/1746 [==============================] - 107s 60ms/step - loss: 0.9115 - auc: 0.5078 - val_loss: 0.5018 - val_auc: 0.6288\n",
            "Epoch 2/3\n",
            "1746/1746 [==============================] - 105s 60ms/step - loss: 0.4126 - auc: 0.5973 - val_loss: 0.3363 - val_auc: 0.8127\n",
            "Epoch 3/3\n",
            "1746/1746 [==============================] - 105s 60ms/step - loss: 0.3059 - auc: 0.6393 - val_loss: 0.2680 - val_auc: 0.8106\n",
            "1496/1496 [==============================] - 34s 23ms/step - loss: 0.2680 - auc: 0.8106\n",
            "Epoch 1/3\n",
            "1746/1746 [==============================] - 106s 60ms/step - loss: 0.7548 - auc: 0.5184 - val_loss: 0.4484 - val_auc: 0.7195\n",
            "Epoch 2/3\n",
            "1746/1746 [==============================] - 104s 60ms/step - loss: 0.4362 - auc: 0.5502 - val_loss: 0.3117 - val_auc: 0.8323\n",
            "Epoch 3/3\n",
            "1746/1746 [==============================] - 105s 60ms/step - loss: 0.3536 - auc: 0.5696 - val_loss: 0.2554 - val_auc: 0.8490\n",
            "1496/1496 [==============================] - 34s 23ms/step - loss: 0.2554 - auc: 0.8490\n",
            "Epoch 1/3\n",
            "1746/1746 [==============================] - 108s 61ms/step - loss: 0.8457 - auc: 0.5156 - val_loss: 0.4838 - val_auc: 0.6972\n",
            "Epoch 2/3\n",
            "1746/1746 [==============================] - 105s 60ms/step - loss: 0.4410 - auc: 0.5472 - val_loss: 0.3223 - val_auc: 0.8078\n",
            "Epoch 3/3\n",
            "1746/1746 [==============================] - 105s 60ms/step - loss: 0.3418 - auc: 0.5680 - val_loss: 0.2577 - val_auc: 0.8150\n",
            "1496/1496 [==============================] - 34s 23ms/step - loss: 0.2577 - auc: 0.8150\n",
            "Epoch 1/3\n",
            "1746/1746 [==============================] - 105s 60ms/step - loss: 0.9576 - auc: 0.4902 - val_loss: 0.5684 - val_auc: 0.5779\n",
            "Epoch 2/3\n",
            "1746/1746 [==============================] - 104s 60ms/step - loss: 0.5010 - auc: 0.5201 - val_loss: 0.3842 - val_auc: 0.7846\n",
            "Epoch 3/3\n",
            "1746/1746 [==============================] - 104s 60ms/step - loss: 0.3907 - auc: 0.5491 - val_loss: 0.3041 - val_auc: 0.8089\n",
            "1496/1496 [==============================] - 34s 23ms/step - loss: 0.3041 - auc: 0.8089\n",
            "Epoch 1/3\n",
            "1746/1746 [==============================] - 107s 61ms/step - loss: 1.6695 - auc: 0.5108 - val_loss: 1.4255 - val_auc: 0.5706\n",
            "Epoch 2/3\n",
            "1746/1746 [==============================] - 105s 60ms/step - loss: 1.2316 - auc: 0.5841 - val_loss: 1.0583 - val_auc: 0.6258\n",
            "Epoch 3/3\n",
            "1746/1746 [==============================] - 105s 60ms/step - loss: 0.9223 - auc: 0.6216 - val_loss: 0.8020 - val_auc: 0.6418\n",
            "1496/1496 [==============================] - 34s 23ms/step - loss: 0.8020 - auc: 0.6418\n",
            "Epoch 1/3\n",
            "1746/1746 [==============================] - 106s 60ms/step - loss: 2.1506 - auc: 0.6367 - val_loss: 1.7976 - val_auc: 0.6815\n",
            "Epoch 2/3\n",
            "1746/1746 [==============================] - 105s 60ms/step - loss: 1.5250 - auc: 0.6650 - val_loss: 1.2843 - val_auc: 0.6902\n",
            "Epoch 3/3\n",
            "1746/1746 [==============================] - 104s 60ms/step - loss: 1.0996 - auc: 0.6749 - val_loss: 0.9378 - val_auc: 0.6926\n",
            "1496/1496 [==============================] - 35s 23ms/step - loss: 0.9378 - auc: 0.6926\n",
            "Epoch 1/3\n",
            "1746/1746 [==============================] - 107s 61ms/step - loss: 2.6502 - auc: 0.5589 - val_loss: 2.1898 - val_auc: 0.6208\n",
            "Epoch 2/3\n",
            "1746/1746 [==============================] - 105s 60ms/step - loss: 1.8400 - auc: 0.6566 - val_loss: 1.5334 - val_auc: 0.7029\n",
            "Epoch 3/3\n",
            "1746/1746 [==============================] - 105s 60ms/step - loss: 1.3015 - auc: 0.7039 - val_loss: 1.1005 - val_auc: 0.7219\n",
            "1496/1496 [==============================] - 35s 23ms/step - loss: 1.1005 - auc: 0.7219\n",
            "Epoch 1/3\n",
            "1746/1746 [==============================] - 106s 60ms/step - loss: 1.6556 - auc: 0.5715 - val_loss: 1.4137 - val_auc: 0.6420\n",
            "Epoch 2/3\n",
            "1746/1746 [==============================] - 105s 60ms/step - loss: 1.2222 - auc: 0.6313 - val_loss: 1.0487 - val_auc: 0.6943\n",
            "Epoch 3/3\n",
            "1746/1746 [==============================] - 105s 60ms/step - loss: 0.9138 - auc: 0.6601 - val_loss: 0.7911 - val_auc: 0.7074\n",
            "1496/1496 [==============================] - 35s 23ms/step - loss: 0.7911 - auc: 0.7074\n",
            "Epoch 1/3\n",
            "1746/1746 [==============================] - 107s 61ms/step - loss: 2.1651 - auc: 0.4815 - val_loss: 1.8121 - val_auc: 0.5112\n",
            "Epoch 2/3\n",
            "1746/1746 [==============================] - 105s 60ms/step - loss: 1.5398 - auc: 0.5250 - val_loss: 1.2977 - val_auc: 0.5674\n",
            "Epoch 3/3\n",
            "1746/1746 [==============================] - 106s 61ms/step - loss: 1.1125 - auc: 0.5496 - val_loss: 0.9485 - val_auc: 0.5981\n",
            "1496/1496 [==============================] - 35s 23ms/step - loss: 0.9485 - auc: 0.5981\n",
            "Epoch 1/3\n",
            "1746/1746 [==============================] - 107s 61ms/step - loss: 2.6667 - auc: 0.4601 - val_loss: 2.2054 - val_auc: 0.4184\n",
            "Epoch 2/3\n",
            "1746/1746 [==============================] - 105s 60ms/step - loss: 1.8565 - auc: 0.4340 - val_loss: 1.5510 - val_auc: 0.4231\n",
            "Epoch 3/3\n",
            "1746/1746 [==============================] - 105s 60ms/step - loss: 1.3214 - auc: 0.4413 - val_loss: 1.1222 - val_auc: 0.4528\n",
            "1496/1496 [==============================] - 34s 23ms/step - loss: 1.1222 - auc: 0.4528\n",
            "Epoch 1/3\n",
            "1746/1746 [==============================] - 106s 60ms/step - loss: 1.6772 - auc: 0.5243 - val_loss: 1.4425 - val_auc: 0.5842\n",
            "Epoch 2/3\n",
            "1746/1746 [==============================] - 104s 59ms/step - loss: 1.2651 - auc: 0.5222 - val_loss: 1.0985 - val_auc: 0.5945\n",
            "Epoch 3/3\n",
            "1746/1746 [==============================] - 104s 60ms/step - loss: 0.9792 - auc: 0.5227 - val_loss: 0.8572 - val_auc: 0.6075\n",
            "1496/1496 [==============================] - 35s 23ms/step - loss: 0.8572 - auc: 0.6075\n",
            "Epoch 1/3\n",
            "1746/1746 [==============================] - 108s 61ms/step - loss: 2.1693 - auc: 0.4975 - val_loss: 1.8221 - val_auc: 0.5420\n",
            "Epoch 2/3\n",
            "1746/1746 [==============================] - 105s 60ms/step - loss: 1.5600 - auc: 0.5178 - val_loss: 1.3218 - val_auc: 0.6238\n",
            "Epoch 3/3\n",
            "1746/1746 [==============================] - 105s 60ms/step - loss: 1.1479 - auc: 0.5293 - val_loss: 0.9846 - val_auc: 0.6622\n",
            "1496/1496 [==============================] - 34s 23ms/step - loss: 0.9846 - auc: 0.6622\n",
            "Epoch 1/3\n",
            "1746/1746 [==============================] - 107s 61ms/step - loss: 2.6635 - auc: 0.5076 - val_loss: 2.2049 - val_auc: 0.5575\n",
            "Epoch 2/3\n",
            "1746/1746 [==============================] - 106s 61ms/step - loss: 1.8590 - auc: 0.5227 - val_loss: 1.5511 - val_auc: 0.6408\n",
            "Epoch 3/3\n",
            "1746/1746 [==============================] - 105s 60ms/step - loss: 1.3220 - auc: 0.5465 - val_loss: 1.1178 - val_auc: 0.6807\n",
            "1496/1496 [==============================] - 35s 23ms/step - loss: 1.1178 - auc: 0.6807\n",
            "Epoch 1/3\n",
            "1746/1746 [==============================] - 107s 61ms/step - loss: 0.9985 - auc: 0.5475 - val_loss: 0.5130 - val_auc: 0.6891\n",
            "Epoch 2/3\n",
            "1746/1746 [==============================] - 106s 61ms/step - loss: 0.4020 - auc: 0.7014 - val_loss: 0.3376 - val_auc: 0.7844\n",
            "Epoch 3/3\n",
            "1746/1746 [==============================] - 106s 61ms/step - loss: 0.3038 - auc: 0.8095 - val_loss: 0.2753 - val_auc: 0.8413\n",
            "1496/1496 [==============================] - 35s 23ms/step - loss: 0.2753 - auc: 0.8413\n",
            "Epoch 1/3\n",
            "1746/1746 [==============================] - 107s 61ms/step - loss: 1.2323 - auc: 0.5822 - val_loss: 0.5869 - val_auc: 0.7362\n",
            "Epoch 2/3\n",
            "1746/1746 [==============================] - 105s 60ms/step - loss: 0.4512 - auc: 0.7157 - val_loss: 0.3730 - val_auc: 0.7864\n",
            "Epoch 3/3\n",
            "1746/1746 [==============================] - 105s 60ms/step - loss: 0.3310 - auc: 0.7899 - val_loss: 0.2961 - val_auc: 0.8201\n",
            "1496/1496 [==============================] - 35s 23ms/step - loss: 0.2961 - auc: 0.8201\n",
            "Epoch 1/3\n",
            "1746/1746 [==============================] - 106s 60ms/step - loss: 1.4568 - auc: 0.5353 - val_loss: 0.6522 - val_auc: 0.6897\n",
            "Epoch 2/3\n",
            "1746/1746 [==============================] - 105s 60ms/step - loss: 0.4888 - auc: 0.6643 - val_loss: 0.3955 - val_auc: 0.7883\n",
            "Epoch 3/3\n",
            "1746/1746 [==============================] - 106s 61ms/step - loss: 0.3474 - auc: 0.7728 - val_loss: 0.3086 - val_auc: 0.8130\n",
            "1496/1496 [==============================] - 35s 23ms/step - loss: 0.3086 - auc: 0.8130\n",
            "Epoch 1/3\n",
            "1746/1746 [==============================] - 107s 61ms/step - loss: 0.9792 - auc: 0.5757 - val_loss: 0.4869 - val_auc: 0.7515\n",
            "Epoch 2/3\n",
            "1746/1746 [==============================] - 108s 62ms/step - loss: 0.3870 - auc: 0.7075 - val_loss: 0.3202 - val_auc: 0.8165\n",
            "Epoch 3/3\n",
            "1746/1746 [==============================] - 107s 62ms/step - loss: 0.2924 - auc: 0.7534 - val_loss: 0.2606 - val_auc: 0.8480\n",
            "1496/1496 [==============================] - 36s 23ms/step - loss: 0.2606 - auc: 0.8480\n",
            "Epoch 1/3\n",
            "1746/1746 [==============================] - 110s 62ms/step - loss: 1.2299 - auc: 0.5381 - val_loss: 0.5842 - val_auc: 0.6803\n",
            "Epoch 2/3\n",
            "1746/1746 [==============================] - 108s 62ms/step - loss: 0.4514 - auc: 0.6378 - val_loss: 0.3682 - val_auc: 0.7781\n",
            "Epoch 3/3\n",
            "1746/1746 [==============================] - 107s 61ms/step - loss: 0.3323 - auc: 0.6995 - val_loss: 0.2946 - val_auc: 0.8286\n",
            "1496/1496 [==============================] - 35s 23ms/step - loss: 0.2946 - auc: 0.8286\n",
            "Epoch 1/3\n",
            "1746/1746 [==============================] - 109s 62ms/step - loss: 1.4562 - auc: 0.5849 - val_loss: 0.6491 - val_auc: 0.7488\n",
            "Epoch 2/3\n",
            "1746/1746 [==============================] - 107s 62ms/step - loss: 0.4917 - auc: 0.6680 - val_loss: 0.3980 - val_auc: 0.7882\n",
            "Epoch 3/3\n",
            "1746/1746 [==============================] - 109s 62ms/step - loss: 0.3552 - auc: 0.7072 - val_loss: 0.3136 - val_auc: 0.8063\n"
          ],
          "name": "stdout"
        },
        {
          "output_type": "stream",
          "text": [
            "Exception ignored in: <function IteratorResourceDeleter.__del__ at 0x7f5198fd1c20>\n",
            "Traceback (most recent call last):\n",
            "  File \"/usr/local/lib/python3.7/dist-packages/tensorflow/python/data/ops/iterator_ops.py\", line 546, in __del__\n",
            "    handle=self._handle, deleter=self._deleter)\n",
            "  File \"/usr/local/lib/python3.7/dist-packages/tensorflow/python/ops/gen_dataset_ops.py\", line 1264, in delete_iterator\n",
            "    _ctx, \"DeleteIterator\", name, handle, deleter)\n",
            "KeyboardInterrupt: \n"
          ],
          "name": "stderr"
        },
        {
          "output_type": "stream",
          "text": [
            " 505/1496 [=========>....................] - ETA: 22s - loss: 0.3138 - auc: 0.8041"
          ],
          "name": "stdout"
        },
        {
          "output_type": "error",
          "ename": "KeyboardInterrupt",
          "evalue": "ignored",
          "traceback": [
            "\u001b[0;31m---------------------------------------------------------------------------\u001b[0m",
            "\u001b[0;31mKeyboardInterrupt\u001b[0m                         Traceback (most recent call last)",
            "\u001b[0;32m<ipython-input-31-38db061c0f11>\u001b[0m in \u001b[0;36m<module>\u001b[0;34m()\u001b[0m\n\u001b[1;32m     16\u001b[0m         \u001b[0;32mfor\u001b[0m \u001b[0ml2\u001b[0m \u001b[0;32min\u001b[0m \u001b[0ml2s\u001b[0m\u001b[0;34m:\u001b[0m\u001b[0;34m\u001b[0m\u001b[0;34m\u001b[0m\u001b[0m\n\u001b[1;32m     17\u001b[0m           \u001b[0;32mfor\u001b[0m \u001b[0mm\u001b[0m \u001b[0;32min\u001b[0m \u001b[0mmetrics\u001b[0m\u001b[0;34m:\u001b[0m\u001b[0;34m\u001b[0m\u001b[0;34m\u001b[0m\u001b[0m\n\u001b[0;32m---> 18\u001b[0;31m             \u001b[0mresults\u001b[0m \u001b[0;34m=\u001b[0m \u001b[0mrun_model\u001b[0m\u001b[0;34m(\u001b[0m\u001b[0mh\u001b[0m\u001b[0;34m,\u001b[0m \u001b[0mr\u001b[0m\u001b[0;34m,\u001b[0m \u001b[0mtuning_epochs\u001b[0m\u001b[0;34m,\u001b[0m \u001b[0md\u001b[0m\u001b[0;34m,\u001b[0m \u001b[0ml2\u001b[0m\u001b[0;34m,\u001b[0m \u001b[0ml\u001b[0m\u001b[0;34m,\u001b[0m \u001b[0mm\u001b[0m\u001b[0;34m)\u001b[0m\u001b[0;34m\u001b[0m\u001b[0;34m\u001b[0m\u001b[0m\n\u001b[0m\u001b[1;32m     19\u001b[0m             \u001b[0mtuning_results\u001b[0m\u001b[0;34m[\u001b[0m\u001b[0;34m'hidden_nodes'\u001b[0m\u001b[0;34m]\u001b[0m\u001b[0;34m.\u001b[0m\u001b[0mappend\u001b[0m\u001b[0;34m(\u001b[0m\u001b[0mh\u001b[0m\u001b[0;34m)\u001b[0m\u001b[0;34m\u001b[0m\u001b[0;34m\u001b[0m\u001b[0m\n\u001b[1;32m     20\u001b[0m             \u001b[0mtuning_results\u001b[0m\u001b[0;34m[\u001b[0m\u001b[0;34m'learning_rates'\u001b[0m\u001b[0;34m]\u001b[0m\u001b[0;34m.\u001b[0m\u001b[0mappend\u001b[0m\u001b[0;34m(\u001b[0m\u001b[0mr\u001b[0m\u001b[0;34m)\u001b[0m\u001b[0;34m\u001b[0m\u001b[0;34m\u001b[0m\u001b[0m\n",
            "\u001b[0;32m<ipython-input-29-4e6ed2312039>\u001b[0m in \u001b[0;36mrun_model\u001b[0;34m(hidden_nodes, learning_rate, epochs, dropout, l2, loss_fn, metric)\u001b[0m\n\u001b[1;32m     21\u001b[0m                     callbacks = [callback])\n\u001b[1;32m     22\u001b[0m \u001b[0;34m\u001b[0m\u001b[0m\n\u001b[0;32m---> 23\u001b[0;31m   \u001b[0mloss\u001b[0m\u001b[0;34m,\u001b[0m \u001b[0maccuracy\u001b[0m \u001b[0;34m=\u001b[0m \u001b[0mmodel\u001b[0m\u001b[0;34m.\u001b[0m\u001b[0mevaluate\u001b[0m\u001b[0;34m(\u001b[0m\u001b[0mX_val\u001b[0m\u001b[0;34m,\u001b[0m \u001b[0my_val\u001b[0m\u001b[0;34m)\u001b[0m\u001b[0;34m\u001b[0m\u001b[0;34m\u001b[0m\u001b[0m\n\u001b[0m\u001b[1;32m     24\u001b[0m   \u001b[0mresults\u001b[0m \u001b[0;34m=\u001b[0m \u001b[0;34m{\u001b[0m\u001b[0;34m'loss'\u001b[0m\u001b[0;34m:\u001b[0m \u001b[0mloss\u001b[0m\u001b[0;34m,\u001b[0m \u001b[0;34m'accuracy'\u001b[0m\u001b[0;34m:\u001b[0m \u001b[0maccuracy\u001b[0m\u001b[0;34m}\u001b[0m\u001b[0;34m\u001b[0m\u001b[0;34m\u001b[0m\u001b[0m\n\u001b[1;32m     25\u001b[0m \u001b[0;34m\u001b[0m\u001b[0m\n",
            "\u001b[0;32m/usr/local/lib/python3.7/dist-packages/tensorflow/python/keras/engine/training.py\u001b[0m in \u001b[0;36mevaluate\u001b[0;34m(self, x, y, batch_size, verbose, sample_weight, steps, callbacks, max_queue_size, workers, use_multiprocessing, return_dict, **kwargs)\u001b[0m\n\u001b[1;32m   1487\u001b[0m             \u001b[0;32mwith\u001b[0m \u001b[0mtrace\u001b[0m\u001b[0;34m.\u001b[0m\u001b[0mTrace\u001b[0m\u001b[0;34m(\u001b[0m\u001b[0;34m'test'\u001b[0m\u001b[0;34m,\u001b[0m \u001b[0mstep_num\u001b[0m\u001b[0;34m=\u001b[0m\u001b[0mstep\u001b[0m\u001b[0;34m,\u001b[0m \u001b[0m_r\u001b[0m\u001b[0;34m=\u001b[0m\u001b[0;36m1\u001b[0m\u001b[0;34m)\u001b[0m\u001b[0;34m:\u001b[0m\u001b[0;34m\u001b[0m\u001b[0;34m\u001b[0m\u001b[0m\n\u001b[1;32m   1488\u001b[0m               \u001b[0mcallbacks\u001b[0m\u001b[0;34m.\u001b[0m\u001b[0mon_test_batch_begin\u001b[0m\u001b[0;34m(\u001b[0m\u001b[0mstep\u001b[0m\u001b[0;34m)\u001b[0m\u001b[0;34m\u001b[0m\u001b[0;34m\u001b[0m\u001b[0m\n\u001b[0;32m-> 1489\u001b[0;31m               \u001b[0mtmp_logs\u001b[0m \u001b[0;34m=\u001b[0m \u001b[0mself\u001b[0m\u001b[0;34m.\u001b[0m\u001b[0mtest_function\u001b[0m\u001b[0;34m(\u001b[0m\u001b[0miterator\u001b[0m\u001b[0;34m)\u001b[0m\u001b[0;34m\u001b[0m\u001b[0;34m\u001b[0m\u001b[0m\n\u001b[0m\u001b[1;32m   1490\u001b[0m               \u001b[0;32mif\u001b[0m \u001b[0mdata_handler\u001b[0m\u001b[0;34m.\u001b[0m\u001b[0mshould_sync\u001b[0m\u001b[0;34m:\u001b[0m\u001b[0;34m\u001b[0m\u001b[0;34m\u001b[0m\u001b[0m\n\u001b[1;32m   1491\u001b[0m                 \u001b[0mcontext\u001b[0m\u001b[0;34m.\u001b[0m\u001b[0masync_wait\u001b[0m\u001b[0;34m(\u001b[0m\u001b[0;34m)\u001b[0m\u001b[0;34m\u001b[0m\u001b[0;34m\u001b[0m\u001b[0m\n",
            "\u001b[0;32m/usr/local/lib/python3.7/dist-packages/tensorflow/python/eager/def_function.py\u001b[0m in \u001b[0;36m__call__\u001b[0;34m(self, *args, **kwds)\u001b[0m\n\u001b[1;32m    887\u001b[0m \u001b[0;34m\u001b[0m\u001b[0m\n\u001b[1;32m    888\u001b[0m       \u001b[0;32mwith\u001b[0m \u001b[0mOptionalXlaContext\u001b[0m\u001b[0;34m(\u001b[0m\u001b[0mself\u001b[0m\u001b[0;34m.\u001b[0m\u001b[0m_jit_compile\u001b[0m\u001b[0;34m)\u001b[0m\u001b[0;34m:\u001b[0m\u001b[0;34m\u001b[0m\u001b[0;34m\u001b[0m\u001b[0m\n\u001b[0;32m--> 889\u001b[0;31m         \u001b[0mresult\u001b[0m \u001b[0;34m=\u001b[0m \u001b[0mself\u001b[0m\u001b[0;34m.\u001b[0m\u001b[0m_call\u001b[0m\u001b[0;34m(\u001b[0m\u001b[0;34m*\u001b[0m\u001b[0margs\u001b[0m\u001b[0;34m,\u001b[0m \u001b[0;34m**\u001b[0m\u001b[0mkwds\u001b[0m\u001b[0;34m)\u001b[0m\u001b[0;34m\u001b[0m\u001b[0;34m\u001b[0m\u001b[0m\n\u001b[0m\u001b[1;32m    890\u001b[0m \u001b[0;34m\u001b[0m\u001b[0m\n\u001b[1;32m    891\u001b[0m       \u001b[0mnew_tracing_count\u001b[0m \u001b[0;34m=\u001b[0m \u001b[0mself\u001b[0m\u001b[0;34m.\u001b[0m\u001b[0mexperimental_get_tracing_count\u001b[0m\u001b[0;34m(\u001b[0m\u001b[0;34m)\u001b[0m\u001b[0;34m\u001b[0m\u001b[0;34m\u001b[0m\u001b[0m\n",
            "\u001b[0;32m/usr/local/lib/python3.7/dist-packages/tensorflow/python/eager/def_function.py\u001b[0m in \u001b[0;36m_call\u001b[0;34m(self, *args, **kwds)\u001b[0m\n\u001b[1;32m    922\u001b[0m       \u001b[0;31m# In this case we have not created variables on the first call. So we can\u001b[0m\u001b[0;34m\u001b[0m\u001b[0;34m\u001b[0m\u001b[0;34m\u001b[0m\u001b[0m\n\u001b[1;32m    923\u001b[0m       \u001b[0;31m# run the first trace but we should fail if variables are created.\u001b[0m\u001b[0;34m\u001b[0m\u001b[0;34m\u001b[0m\u001b[0;34m\u001b[0m\u001b[0m\n\u001b[0;32m--> 924\u001b[0;31m       \u001b[0mresults\u001b[0m \u001b[0;34m=\u001b[0m \u001b[0mself\u001b[0m\u001b[0;34m.\u001b[0m\u001b[0m_stateful_fn\u001b[0m\u001b[0;34m(\u001b[0m\u001b[0;34m*\u001b[0m\u001b[0margs\u001b[0m\u001b[0;34m,\u001b[0m \u001b[0;34m**\u001b[0m\u001b[0mkwds\u001b[0m\u001b[0;34m)\u001b[0m\u001b[0;34m\u001b[0m\u001b[0;34m\u001b[0m\u001b[0m\n\u001b[0m\u001b[1;32m    925\u001b[0m       \u001b[0;32mif\u001b[0m \u001b[0mself\u001b[0m\u001b[0;34m.\u001b[0m\u001b[0m_created_variables\u001b[0m\u001b[0;34m:\u001b[0m\u001b[0;34m\u001b[0m\u001b[0;34m\u001b[0m\u001b[0m\n\u001b[1;32m    926\u001b[0m         raise ValueError(\"Creating variables on a non-first call to a function\"\n",
            "\u001b[0;32m/usr/local/lib/python3.7/dist-packages/tensorflow/python/eager/function.py\u001b[0m in \u001b[0;36m__call__\u001b[0;34m(self, *args, **kwargs)\u001b[0m\n\u001b[1;32m   3022\u001b[0m        filtered_flat_args) = self._maybe_define_function(args, kwargs)\n\u001b[1;32m   3023\u001b[0m     return graph_function._call_flat(\n\u001b[0;32m-> 3024\u001b[0;31m         filtered_flat_args, captured_inputs=graph_function.captured_inputs)  # pylint: disable=protected-access\n\u001b[0m\u001b[1;32m   3025\u001b[0m \u001b[0;34m\u001b[0m\u001b[0m\n\u001b[1;32m   3026\u001b[0m   \u001b[0;34m@\u001b[0m\u001b[0mproperty\u001b[0m\u001b[0;34m\u001b[0m\u001b[0;34m\u001b[0m\u001b[0m\n",
            "\u001b[0;32m/usr/local/lib/python3.7/dist-packages/tensorflow/python/eager/function.py\u001b[0m in \u001b[0;36m_call_flat\u001b[0;34m(self, args, captured_inputs, cancellation_manager)\u001b[0m\n\u001b[1;32m   1959\u001b[0m       \u001b[0;31m# No tape is watching; skip to running the function.\u001b[0m\u001b[0;34m\u001b[0m\u001b[0;34m\u001b[0m\u001b[0;34m\u001b[0m\u001b[0m\n\u001b[1;32m   1960\u001b[0m       return self._build_call_outputs(self._inference_function.call(\n\u001b[0;32m-> 1961\u001b[0;31m           ctx, args, cancellation_manager=cancellation_manager))\n\u001b[0m\u001b[1;32m   1962\u001b[0m     forward_backward = self._select_forward_and_backward_functions(\n\u001b[1;32m   1963\u001b[0m         \u001b[0margs\u001b[0m\u001b[0;34m,\u001b[0m\u001b[0;34m\u001b[0m\u001b[0;34m\u001b[0m\u001b[0m\n",
            "\u001b[0;32m/usr/local/lib/python3.7/dist-packages/tensorflow/python/eager/function.py\u001b[0m in \u001b[0;36mcall\u001b[0;34m(self, ctx, args, cancellation_manager)\u001b[0m\n\u001b[1;32m    594\u001b[0m               \u001b[0minputs\u001b[0m\u001b[0;34m=\u001b[0m\u001b[0margs\u001b[0m\u001b[0;34m,\u001b[0m\u001b[0;34m\u001b[0m\u001b[0;34m\u001b[0m\u001b[0m\n\u001b[1;32m    595\u001b[0m               \u001b[0mattrs\u001b[0m\u001b[0;34m=\u001b[0m\u001b[0mattrs\u001b[0m\u001b[0;34m,\u001b[0m\u001b[0;34m\u001b[0m\u001b[0;34m\u001b[0m\u001b[0m\n\u001b[0;32m--> 596\u001b[0;31m               ctx=ctx)\n\u001b[0m\u001b[1;32m    597\u001b[0m         \u001b[0;32melse\u001b[0m\u001b[0;34m:\u001b[0m\u001b[0;34m\u001b[0m\u001b[0;34m\u001b[0m\u001b[0m\n\u001b[1;32m    598\u001b[0m           outputs = execute.execute_with_cancellation(\n",
            "\u001b[0;32m/usr/local/lib/python3.7/dist-packages/tensorflow/python/eager/execute.py\u001b[0m in \u001b[0;36mquick_execute\u001b[0;34m(op_name, num_outputs, inputs, attrs, ctx, name)\u001b[0m\n\u001b[1;32m     58\u001b[0m     \u001b[0mctx\u001b[0m\u001b[0;34m.\u001b[0m\u001b[0mensure_initialized\u001b[0m\u001b[0;34m(\u001b[0m\u001b[0;34m)\u001b[0m\u001b[0;34m\u001b[0m\u001b[0;34m\u001b[0m\u001b[0m\n\u001b[1;32m     59\u001b[0m     tensors = pywrap_tfe.TFE_Py_Execute(ctx._handle, device_name, op_name,\n\u001b[0;32m---> 60\u001b[0;31m                                         inputs, attrs, num_outputs)\n\u001b[0m\u001b[1;32m     61\u001b[0m   \u001b[0;32mexcept\u001b[0m \u001b[0mcore\u001b[0m\u001b[0;34m.\u001b[0m\u001b[0m_NotOkStatusException\u001b[0m \u001b[0;32mas\u001b[0m \u001b[0me\u001b[0m\u001b[0;34m:\u001b[0m\u001b[0;34m\u001b[0m\u001b[0;34m\u001b[0m\u001b[0m\n\u001b[1;32m     62\u001b[0m     \u001b[0;32mif\u001b[0m \u001b[0mname\u001b[0m \u001b[0;32mis\u001b[0m \u001b[0;32mnot\u001b[0m \u001b[0;32mNone\u001b[0m\u001b[0;34m:\u001b[0m\u001b[0;34m\u001b[0m\u001b[0;34m\u001b[0m\u001b[0m\n",
            "\u001b[0;31mKeyboardInterrupt\u001b[0m: "
          ]
        }
      ]
    },
    {
      "cell_type": "code",
      "metadata": {
        "id": "bEZlsPey2yJL"
      },
      "source": [
        "#DON'T RUN UNLESS YOU ARE TUNING HYPERPARAMETERS!\n",
        "tuning_results_df.to_pickle('/content/drive/MyDrive/Data Science/toxic_tuning_results_df.pkl')"
      ],
      "execution_count": null,
      "outputs": []
    },
    {
      "cell_type": "code",
      "metadata": {
        "id": "cqYGB1BEdZec"
      },
      "source": [
        "model.save_weights('/content/drive/MyDrive/Data Science/Kaggle/toxic_end_checkpoint.ckpt')"
      ],
      "execution_count": null,
      "outputs": []
    },
    {
      "cell_type": "markdown",
      "metadata": {
        "id": "e1U7cUqJthnh"
      },
      "source": [
        "# Create Instance of Tuned Model\n",
        "(Start here if you aren't training a new model)."
      ]
    },
    {
      "cell_type": "code",
      "metadata": {
        "id": "8mKjzxMMabdX"
      },
      "source": [
        "feature_layer = hub.KerasLayer('https://tfhub.dev/google/universal-sentence-encoder/4', input_shape = [], dtype=tf.string, trainable=False)"
      ],
      "execution_count": null,
      "outputs": []
    },
    {
      "cell_type": "code",
      "metadata": {
        "id": "cHY9g3OhdTX-"
      },
      "source": [
        "#set early stopping (ie. validation loss hook)\n",
        "callback = tf.keras.callbacks.EarlyStopping(monitor = 'val_auc', patience = 2)"
      ],
      "execution_count": null,
      "outputs": []
    },
    {
      "cell_type": "code",
      "metadata": {
        "id": "P3MTvggK5zVg"
      },
      "source": [
        "best_params = {'dropouts': 0.0,\n",
        "                'hidden_nodes': 32,\n",
        "                'l2s': 0.01,\n",
        "                'learning_rates': 0.0001,\n",
        "                'loss_fns': 'binary_crossentropy',\n",
        "                'metrics': 'AUC',\n",
        "              }"
      ],
      "execution_count": null,
      "outputs": []
    },
    {
      "cell_type": "code",
      "metadata": {
        "id": "j5Lhpn1E5QkW"
      },
      "source": [
        "best_model.save_weights('/content/drive/MyDrive/Data Science/toxic_end_checkpoint.ckpt')"
      ],
      "execution_count": null,
      "outputs": []
    },
    {
      "cell_type": "code",
      "metadata": {
        "id": "P0ucfN485QtL"
      },
      "source": [
        "def create_model(hidden_nodes, learning_rate, dropout, loss_fn, metric):\n",
        "  \"\"\"Build, fit and evaluate model given hyperparameters.\n",
        "  Returns loss and accuracy.\"\"\"\n",
        "  model = tf.keras.Sequential([\n",
        "    feature_layer,\n",
        "    layers.Dense(hidden_nodes, activation='relu', kernel_regularizer=tf.keras.regularizers.L2(l2=0.01), name='hidden_layer'),\n",
        "    layers.Dropout(dropout),\n",
        "    layers.Dense(NUM_LABELS, activation='sigmoid', kernel_regularizer=tf.keras.regularizers.L2(l2=0.01), name='output')\n",
        "    ])\n",
        "  model.compile(optimizer=tf.keras.optimizers.Adam(learning_rate=learning_rate),\n",
        "              loss=loss_fn,\n",
        "              metrics=metric)\n",
        "  return model"
      ],
      "execution_count": null,
      "outputs": []
    },
    {
      "cell_type": "code",
      "metadata": {
        "colab": {
          "base_uri": "https://localhost:8080/"
        },
        "id": "pEB1BLte5ZxY",
        "outputId": "fbd4da92-2891-4eec-9202-b14e8db6c136"
      },
      "source": [
        "#create model instance\n",
        "new_model = create_model(best_params['hidden_nodes'], best_params['learning_rates'], best_params['dropouts'], best_params['loss_fns'], best_params['metrics'])\n",
        "\n",
        "#load saved model\n",
        "new_model.load_weights('/content/drive/MyDrive/Data Science/toxic_end_checkpoint.ckpt')"
      ],
      "execution_count": null,
      "outputs": [
        {
          "output_type": "execute_result",
          "data": {
            "text/plain": [
              "<tensorflow.python.training.tracking.util.CheckpointLoadStatus at 0x7f0a22831d50>"
            ]
          },
          "metadata": {
            "tags": []
          },
          "execution_count": 26
        }
      ]
    },
    {
      "cell_type": "code",
      "metadata": {
        "id": "rQUCQUkLoWs0"
      },
      "source": [
        "def create_model(hidden_nodes, learning_rate, dropout, loss_fn, metric):\n",
        "  \"\"\"Build, fit and evaluate model given hyperparameters.\n",
        "  Returns loss and accuracy.\"\"\"\n",
        "  model = tf.keras.Sequential([\n",
        "    feature_layer,\n",
        "    layers.Dense(hidden_nodes, activation='relu', kernel_regularizer=tf.keras.regularizers.L2(l2=0.01), name='hidden_layer'),\n",
        "    layers.Dropout(dropout),\n",
        "    layers.Dense(NUM_LABELS, activation='sigmoid', kernel_regularizer=tf.keras.regularizers.L2(l2=0.01), name='output')\n",
        "    ])\n",
        "  model.compile(optimizer=tf.keras.optimizers.Adam(learning_rate=learning_rate),\n",
        "              loss=loss_fn,\n",
        "              metrics=metric)\n",
        "  return model"
      ],
      "execution_count": null,
      "outputs": []
    },
    {
      "cell_type": "markdown",
      "metadata": {
        "id": "EUu26eYYvhrh"
      },
      "source": [
        "# Evaluate Model"
      ]
    },
    {
      "cell_type": "code",
      "metadata": {
        "colab": {
          "base_uri": "https://localhost:8080/"
        },
        "id": "y_DZvWGfoD1l",
        "outputId": "cde79955-966e-4eb0-aad5-2a63a77cb23f"
      },
      "source": [
        "new_model.evaluate(X_val, y_val)"
      ],
      "execution_count": null,
      "outputs": [
        {
          "output_type": "stream",
          "text": [
            "1496/1496 [==============================] - 35s 23ms/step - loss: 0.2427 - auc: 0.8468\n"
          ],
          "name": "stdout"
        },
        {
          "output_type": "execute_result",
          "data": {
            "text/plain": [
              "[0.24267783761024475, 0.8468178510665894]"
            ]
          },
          "metadata": {
            "tags": []
          },
          "execution_count": 41
        }
      ]
    },
    {
      "cell_type": "markdown",
      "metadata": {
        "id": "T3y0WnVdwJPu"
      },
      "source": [
        "## Visualize Predictions"
      ]
    },
    {
      "cell_type": "code",
      "metadata": {
        "colab": {
          "base_uri": "https://localhost:8080/",
          "height": 204
        },
        "id": "IP2CjrWLabxi",
        "outputId": "44ee720f-c73d-4edd-f348-78d52e09fc4f"
      },
      "source": [
        "raw_val_preds = new_model.predict(X_val)\n",
        "raw_val_preds_df = pd.DataFrame(raw_val_preds)\n",
        "raw_val_preds_df.columns = comment_labels\n",
        "raw_val_preds_df.head()"
      ],
      "execution_count": null,
      "outputs": [
        {
          "output_type": "execute_result",
          "data": {
            "text/html": [
              "<div>\n",
              "<style scoped>\n",
              "    .dataframe tbody tr th:only-of-type {\n",
              "        vertical-align: middle;\n",
              "    }\n",
              "\n",
              "    .dataframe tbody tr th {\n",
              "        vertical-align: top;\n",
              "    }\n",
              "\n",
              "    .dataframe thead th {\n",
              "        text-align: right;\n",
              "    }\n",
              "</style>\n",
              "<table border=\"1\" class=\"dataframe\">\n",
              "  <thead>\n",
              "    <tr style=\"text-align: right;\">\n",
              "      <th></th>\n",
              "      <th>toxic</th>\n",
              "      <th>severe_toxic</th>\n",
              "      <th>obscene</th>\n",
              "      <th>threat</th>\n",
              "      <th>insult</th>\n",
              "      <th>identity_hate</th>\n",
              "    </tr>\n",
              "  </thead>\n",
              "  <tbody>\n",
              "    <tr>\n",
              "      <th>0</th>\n",
              "      <td>0.135385</td>\n",
              "      <td>0.075635</td>\n",
              "      <td>0.106341</td>\n",
              "      <td>0.075113</td>\n",
              "      <td>0.102184</td>\n",
              "      <td>0.074425</td>\n",
              "    </tr>\n",
              "    <tr>\n",
              "      <th>1</th>\n",
              "      <td>0.134800</td>\n",
              "      <td>0.075180</td>\n",
              "      <td>0.105801</td>\n",
              "      <td>0.074686</td>\n",
              "      <td>0.101644</td>\n",
              "      <td>0.073969</td>\n",
              "    </tr>\n",
              "    <tr>\n",
              "      <th>2</th>\n",
              "      <td>0.147047</td>\n",
              "      <td>0.085736</td>\n",
              "      <td>0.117607</td>\n",
              "      <td>0.085259</td>\n",
              "      <td>0.113271</td>\n",
              "      <td>0.084448</td>\n",
              "    </tr>\n",
              "    <tr>\n",
              "      <th>3</th>\n",
              "      <td>0.115358</td>\n",
              "      <td>0.059544</td>\n",
              "      <td>0.087450</td>\n",
              "      <td>0.059202</td>\n",
              "      <td>0.083746</td>\n",
              "      <td>0.058476</td>\n",
              "    </tr>\n",
              "    <tr>\n",
              "      <th>4</th>\n",
              "      <td>0.103566</td>\n",
              "      <td>0.050763</td>\n",
              "      <td>0.076699</td>\n",
              "      <td>0.050550</td>\n",
              "      <td>0.073264</td>\n",
              "      <td>0.049785</td>\n",
              "    </tr>\n",
              "  </tbody>\n",
              "</table>\n",
              "</div>"
            ],
            "text/plain": [
              "      toxic  severe_toxic   obscene    threat    insult  identity_hate\n",
              "0  0.135385      0.075635  0.106341  0.075113  0.102184       0.074425\n",
              "1  0.134800      0.075180  0.105801  0.074686  0.101644       0.073969\n",
              "2  0.147047      0.085736  0.117607  0.085259  0.113271       0.084448\n",
              "3  0.115358      0.059544  0.087450  0.059202  0.083746       0.058476\n",
              "4  0.103566      0.050763  0.076699  0.050550  0.073264       0.049785"
            ]
          },
          "metadata": {
            "tags": []
          },
          "execution_count": 28
        }
      ]
    },
    {
      "cell_type": "code",
      "metadata": {
        "colab": {
          "base_uri": "https://localhost:8080/",
          "height": 513
        },
        "id": "XWJb97jcab1A",
        "outputId": "6e52b2bd-c244-4e12-cc19-778464f3d16b"
      },
      "source": [
        "rows = 3\n",
        "cols = 2\n",
        "fig, axs = plt.subplots(rows,cols, figsize=(7,7), sharex=True, sharey=True)\n",
        "i = 0\n",
        "\n",
        "for r in range(rows):\n",
        "  for c in range(cols):\n",
        "    sns.distplot(raw_val_preds_df[comment_labels[i]], bins=30, kde=True, color=\"g\", ax=axs[r,c])\n",
        "    axs[r, c].set_title(f'{comment_labels[i]}')\n",
        "    i += 1\n",
        "\n",
        "plt.tight_layout()\n",
        "plt.show()"
      ],
      "execution_count": null,
      "outputs": [
        {
          "output_type": "display_data",
          "data": {
            "image/png": "[encoded data removed]",
            "text/plain": [
              "<Figure size 504x504 with 6 Axes>"
            ]
          },
          "metadata": {
            "tags": [],
            "needs_background": "light"
          }
        }
      ]
    },
    {
      "cell_type": "markdown",
      "metadata": {
        "id": "k6rvNEecvKju"
      },
      "source": [
        "## Tune Classification Threshold"
      ]
    },
    {
      "cell_type": "code",
      "metadata": {
        "colab": {
          "base_uri": "https://localhost:8080/"
        },
        "id": "dCnnJ_u8ab4k",
        "outputId": "b3b8a923-4a76-4593-aad8-52b36d2995b6"
      },
      "source": [
        "#loop through labels and thresholds for each label to maximize F1 score per label\n",
        "\n",
        "best_thresholds = {}\n",
        "\n",
        "for i in range(len(comment_labels)):\n",
        "  min_thresh, max_thresh = min(raw_val_preds[:,i]), max(raw_val_preds[:,i])\n",
        "  thresholds = np.linspace(min_thresh, max_thresh, 5)\n",
        "  best_f1 = 0\n",
        "  best_thresh = 0\n",
        "\n",
        "  for thresh in thresholds:\n",
        "    f1 = sklearn.metrics.f1_score(y_val[:,i], (raw_val_preds[:,i] > thresh).astype('int'))\n",
        "    if f1 > best_f1:\n",
        "      best_f1 = f1\n",
        "      best_thresh = thresh\n",
        "\n",
        "  best_thresholds.update({f'{comment_labels[i]}': {'best_f1': best_f1, 'best_thresh': best_thresh}})\n",
        "  print(f'Label: {comment_labels[i]}, Best Threshold: {best_thresh}, Best F1 Score: {best_f1}')"
      ],
      "execution_count": null,
      "outputs": [
        {
          "output_type": "stream",
          "text": [
            "Label: toxic, Best Threshold: 0.14187921956181526, Best F1 Score: 0.3098350362463611\n",
            "Label: severe_toxic, Best Threshold: 0.10257540177553892, Best F1 Score: 0.17780938833570414\n",
            "Label: obscene, Best Threshold: 0.1347789615392685, Best F1 Score: 0.24369524820812316\n",
            "Label: threat, Best Threshold: 0.10190705675631762, Best F1 Score: 0.029732408325074337\n",
            "Label: insult, Best Threshold: 0.13026473857462406, Best F1 Score: 0.2173546756529065\n",
            "Label: identity_hate, Best Threshold: 0.10124224238097668, Best F1 Score: 0.1003690036900369\n"
          ],
          "name": "stdout"
        }
      ]
    },
    {
      "cell_type": "code",
      "metadata": {
        "colab": {
          "base_uri": "https://localhost:8080/",
          "height": 204
        },
        "id": "_CweZXm4ab7o",
        "outputId": "02e3fb3c-7101-41b6-83a7-1f641feccfd5"
      },
      "source": [
        "val_preds_df = pd.DataFrame()\n",
        "\n",
        "for label in comment_labels:\n",
        "  val_preds_df[label] = (raw_val_preds_df[label] > best_thresholds[label]['best_thresh']).astype('int')\n",
        "\n",
        "val_preds_df.head()"
      ],
      "execution_count": null,
      "outputs": [
        {
          "output_type": "execute_result",
          "data": {
            "text/html": [
              "<div>\n",
              "<style scoped>\n",
              "    .dataframe tbody tr th:only-of-type {\n",
              "        vertical-align: middle;\n",
              "    }\n",
              "\n",
              "    .dataframe tbody tr th {\n",
              "        vertical-align: top;\n",
              "    }\n",
              "\n",
              "    .dataframe thead th {\n",
              "        text-align: right;\n",
              "    }\n",
              "</style>\n",
              "<table border=\"1\" class=\"dataframe\">\n",
              "  <thead>\n",
              "    <tr style=\"text-align: right;\">\n",
              "      <th></th>\n",
              "      <th>toxic</th>\n",
              "      <th>severe_toxic</th>\n",
              "      <th>obscene</th>\n",
              "      <th>threat</th>\n",
              "      <th>insult</th>\n",
              "      <th>identity_hate</th>\n",
              "    </tr>\n",
              "  </thead>\n",
              "  <tbody>\n",
              "    <tr>\n",
              "      <th>0</th>\n",
              "      <td>0</td>\n",
              "      <td>0</td>\n",
              "      <td>0</td>\n",
              "      <td>0</td>\n",
              "      <td>0</td>\n",
              "      <td>0</td>\n",
              "    </tr>\n",
              "    <tr>\n",
              "      <th>1</th>\n",
              "      <td>0</td>\n",
              "      <td>0</td>\n",
              "      <td>0</td>\n",
              "      <td>0</td>\n",
              "      <td>0</td>\n",
              "      <td>0</td>\n",
              "    </tr>\n",
              "    <tr>\n",
              "      <th>2</th>\n",
              "      <td>1</td>\n",
              "      <td>0</td>\n",
              "      <td>0</td>\n",
              "      <td>0</td>\n",
              "      <td>0</td>\n",
              "      <td>0</td>\n",
              "    </tr>\n",
              "    <tr>\n",
              "      <th>3</th>\n",
              "      <td>0</td>\n",
              "      <td>0</td>\n",
              "      <td>0</td>\n",
              "      <td>0</td>\n",
              "      <td>0</td>\n",
              "      <td>0</td>\n",
              "    </tr>\n",
              "    <tr>\n",
              "      <th>4</th>\n",
              "      <td>0</td>\n",
              "      <td>0</td>\n",
              "      <td>0</td>\n",
              "      <td>0</td>\n",
              "      <td>0</td>\n",
              "      <td>0</td>\n",
              "    </tr>\n",
              "  </tbody>\n",
              "</table>\n",
              "</div>"
            ],
            "text/plain": [
              "   toxic  severe_toxic  obscene  threat  insult  identity_hate\n",
              "0      0             0        0       0       0              0\n",
              "1      0             0        0       0       0              0\n",
              "2      1             0        0       0       0              0\n",
              "3      0             0        0       0       0              0\n",
              "4      0             0        0       0       0              0"
            ]
          },
          "metadata": {
            "tags": []
          },
          "execution_count": 45
        }
      ]
    },
    {
      "cell_type": "code",
      "metadata": {
        "colab": {
          "base_uri": "https://localhost:8080/",
          "height": 204
        },
        "id": "D1J2ERSgxJ7s",
        "outputId": "a8599c59-2a8d-41bc-8ede-2d7f767da5bd"
      },
      "source": [
        "y_val_df = pd.DataFrame(y_val, columns=comment_labels)\n",
        "val_diff_df = y_val_df.eq(val_preds_df).astype(int)\n",
        "val_diff_df.columns = comment_labels\n",
        "val_diff_df.head()"
      ],
      "execution_count": null,
      "outputs": [
        {
          "output_type": "execute_result",
          "data": {
            "text/html": [
              "<div>\n",
              "<style scoped>\n",
              "    .dataframe tbody tr th:only-of-type {\n",
              "        vertical-align: middle;\n",
              "    }\n",
              "\n",
              "    .dataframe tbody tr th {\n",
              "        vertical-align: top;\n",
              "    }\n",
              "\n",
              "    .dataframe thead th {\n",
              "        text-align: right;\n",
              "    }\n",
              "</style>\n",
              "<table border=\"1\" class=\"dataframe\">\n",
              "  <thead>\n",
              "    <tr style=\"text-align: right;\">\n",
              "      <th></th>\n",
              "      <th>toxic</th>\n",
              "      <th>severe_toxic</th>\n",
              "      <th>obscene</th>\n",
              "      <th>threat</th>\n",
              "      <th>insult</th>\n",
              "      <th>identity_hate</th>\n",
              "    </tr>\n",
              "  </thead>\n",
              "  <tbody>\n",
              "    <tr>\n",
              "      <th>0</th>\n",
              "      <td>0</td>\n",
              "      <td>1</td>\n",
              "      <td>1</td>\n",
              "      <td>0</td>\n",
              "      <td>0</td>\n",
              "      <td>1</td>\n",
              "    </tr>\n",
              "    <tr>\n",
              "      <th>1</th>\n",
              "      <td>1</td>\n",
              "      <td>1</td>\n",
              "      <td>1</td>\n",
              "      <td>1</td>\n",
              "      <td>1</td>\n",
              "      <td>1</td>\n",
              "    </tr>\n",
              "    <tr>\n",
              "      <th>2</th>\n",
              "      <td>0</td>\n",
              "      <td>1</td>\n",
              "      <td>1</td>\n",
              "      <td>1</td>\n",
              "      <td>1</td>\n",
              "      <td>1</td>\n",
              "    </tr>\n",
              "    <tr>\n",
              "      <th>3</th>\n",
              "      <td>1</td>\n",
              "      <td>1</td>\n",
              "      <td>1</td>\n",
              "      <td>1</td>\n",
              "      <td>1</td>\n",
              "      <td>1</td>\n",
              "    </tr>\n",
              "    <tr>\n",
              "      <th>4</th>\n",
              "      <td>1</td>\n",
              "      <td>1</td>\n",
              "      <td>1</td>\n",
              "      <td>1</td>\n",
              "      <td>1</td>\n",
              "      <td>1</td>\n",
              "    </tr>\n",
              "  </tbody>\n",
              "</table>\n",
              "</div>"
            ],
            "text/plain": [
              "   toxic  severe_toxic  obscene  threat  insult  identity_hate\n",
              "0      0             1        1       0       0              1\n",
              "1      1             1        1       1       1              1\n",
              "2      0             1        1       1       1              1\n",
              "3      1             1        1       1       1              1\n",
              "4      1             1        1       1       1              1"
            ]
          },
          "metadata": {
            "tags": []
          },
          "execution_count": 46
        }
      ]
    },
    {
      "cell_type": "code",
      "metadata": {
        "colab": {
          "base_uri": "https://localhost:8080/"
        },
        "id": "dSL1ZAqKxKB_",
        "outputId": "102007ca-6fbf-4917-da1f-b2b6fb28fe68"
      },
      "source": [
        "val_diff_df.mean().mean()"
      ],
      "execution_count": null,
      "outputs": [
        {
          "output_type": "execute_result",
          "data": {
            "text/plain": [
              "0.9266063669786097"
            ]
          },
          "metadata": {
            "tags": []
          },
          "execution_count": 47
        }
      ]
    },
    {
      "cell_type": "markdown",
      "metadata": {
        "id": "Vx5kCH8Px_Dm"
      },
      "source": [
        "## Classification Report"
      ]
    },
    {
      "cell_type": "code",
      "metadata": {
        "colab": {
          "base_uri": "https://localhost:8080/"
        },
        "id": "OtXx8OUpxKN-",
        "outputId": "9fe9675d-df1a-4f8d-c4e7-601f3eedaa8e"
      },
      "source": [
        "report = sklearn.metrics.classification_report(y_val, val_preds_df.values, target_names = comment_labels)\n",
        "\n",
        "print(report)"
      ],
      "execution_count": null,
      "outputs": [
        {
          "output_type": "stream",
          "text": [
            "               precision    recall  f1-score   support\n",
            "\n",
            "        toxic       0.21      0.60      0.31      4559\n",
            " severe_toxic       0.14      0.25      0.18       491\n",
            "      obscene       0.37      0.18      0.24      2525\n",
            "       threat       0.02      0.11      0.03       136\n",
            "       insult       0.32      0.16      0.22      2356\n",
            "identity_hate       0.08      0.15      0.10       449\n",
            "\n",
            "    micro avg       0.21      0.36      0.26     10516\n",
            "    macro avg       0.19      0.24      0.18     10516\n",
            " weighted avg       0.26      0.36      0.25     10516\n",
            "  samples avg       0.05      0.04      0.04     10516\n",
            "\n"
          ],
          "name": "stdout"
        }
      ]
    },
    {
      "cell_type": "markdown",
      "metadata": {
        "id": "oQ_7SovyyHv-"
      },
      "source": [
        "## Confusion Matrix"
      ]
    },
    {
      "cell_type": "code",
      "metadata": {
        "colab": {
          "base_uri": "https://localhost:8080/",
          "height": 513
        },
        "id": "vWGhQxdMyDWL",
        "outputId": "a1b8086e-a8a3-4174-8845-b4265af9a5ca"
      },
      "source": [
        "cm = sklearn.metrics.multilabel_confusion_matrix(y_val, val_preds_df.values)\n",
        "\n",
        "rows = 3\n",
        "cols = 2\n",
        "fig, axs = plt.subplots(rows,cols, figsize=(7,7), sharex=True, sharey=True)\n",
        "i = 0\n",
        "\n",
        "for r in range(rows):\n",
        "  for c in range(cols):\n",
        "    mat = cm[i] / cm[i].sum()\n",
        "    sns.heatmap(mat, annot=True, ax=axs[r,c])\n",
        "    axs[r, c].set_title(f'{comment_labels[i]}')\n",
        "    axs[r, c].set_xlabel('Predicted')\n",
        "    axs[r, c].set_ylabel('True')\n",
        "    i += 1\n",
        "\n",
        "plt.tight_layout()\n",
        "plt.show()"
      ],
      "execution_count": null,
      "outputs": [
        {
          "output_type": "display_data",
          "data": {
            "image/png": "[encoded data removed]",
            "text/plain": [
              "<Figure size 504x504 with 12 Axes>"
            ]
          },
          "metadata": {
            "tags": [],
            "needs_background": "light"
          }
        }
      ]
    },
    {
      "cell_type": "markdown",
      "metadata": {
        "id": "zw8rweGtyqv8"
      },
      "source": [
        "# Predict on Test Set"
      ]
    },
    {
      "cell_type": "code",
      "metadata": {
        "colab": {
          "base_uri": "https://localhost:8080/",
          "height": 204
        },
        "id": "0Z0kdWJGyqDP",
        "outputId": "fae368f8-b9a8-405b-9ee5-d3338e0488c3"
      },
      "source": [
        "raw_test_preds_df = pd.DataFrame(new_model.predict(X_test), columns=comment_labels)\n",
        "\n",
        "test_preds_df = pd.DataFrame()\n",
        "\n",
        "for cat in comment_labels:\n",
        "  test_preds_df[cat] = (raw_test_preds_df[cat] > best_thresholds[cat]['best_thresh']).astype('int')\n",
        "\n",
        "\n",
        "test_preds_df.head()"
      ],
      "execution_count": null,
      "outputs": [
        {
          "output_type": "execute_result",
          "data": {
            "text/html": [
              "<div>\n",
              "<style scoped>\n",
              "    .dataframe tbody tr th:only-of-type {\n",
              "        vertical-align: middle;\n",
              "    }\n",
              "\n",
              "    .dataframe tbody tr th {\n",
              "        vertical-align: top;\n",
              "    }\n",
              "\n",
              "    .dataframe thead th {\n",
              "        text-align: right;\n",
              "    }\n",
              "</style>\n",
              "<table border=\"1\" class=\"dataframe\">\n",
              "  <thead>\n",
              "    <tr style=\"text-align: right;\">\n",
              "      <th></th>\n",
              "      <th>toxic</th>\n",
              "      <th>severe_toxic</th>\n",
              "      <th>obscene</th>\n",
              "      <th>threat</th>\n",
              "      <th>insult</th>\n",
              "      <th>identity_hate</th>\n",
              "    </tr>\n",
              "  </thead>\n",
              "  <tbody>\n",
              "    <tr>\n",
              "      <th>0</th>\n",
              "      <td>1</td>\n",
              "      <td>0</td>\n",
              "      <td>0</td>\n",
              "      <td>0</td>\n",
              "      <td>0</td>\n",
              "      <td>0</td>\n",
              "    </tr>\n",
              "    <tr>\n",
              "      <th>1</th>\n",
              "      <td>0</td>\n",
              "      <td>0</td>\n",
              "      <td>0</td>\n",
              "      <td>0</td>\n",
              "      <td>0</td>\n",
              "      <td>0</td>\n",
              "    </tr>\n",
              "    <tr>\n",
              "      <th>2</th>\n",
              "      <td>0</td>\n",
              "      <td>0</td>\n",
              "      <td>0</td>\n",
              "      <td>0</td>\n",
              "      <td>0</td>\n",
              "      <td>0</td>\n",
              "    </tr>\n",
              "    <tr>\n",
              "      <th>3</th>\n",
              "      <td>0</td>\n",
              "      <td>0</td>\n",
              "      <td>0</td>\n",
              "      <td>0</td>\n",
              "      <td>0</td>\n",
              "      <td>0</td>\n",
              "    </tr>\n",
              "    <tr>\n",
              "      <th>4</th>\n",
              "      <td>0</td>\n",
              "      <td>0</td>\n",
              "      <td>0</td>\n",
              "      <td>0</td>\n",
              "      <td>0</td>\n",
              "      <td>0</td>\n",
              "    </tr>\n",
              "  </tbody>\n",
              "</table>\n",
              "</div>"
            ],
            "text/plain": [
              "   toxic  severe_toxic  obscene  threat  insult  identity_hate\n",
              "0      1             0        0       0       0              0\n",
              "1      0             0        0       0       0              0\n",
              "2      0             0        0       0       0              0\n",
              "3      0             0        0       0       0              0\n",
              "4      0             0        0       0       0              0"
            ]
          },
          "metadata": {
            "tags": []
          },
          "execution_count": 51
        }
      ]
    },
    {
      "cell_type": "code",
      "metadata": {
        "colab": {
          "base_uri": "https://localhost:8080/",
          "height": 204
        },
        "id": "QyyZH-wryqHs",
        "outputId": "eee91529-93d1-4f64-ac8a-cbd155d726c3"
      },
      "source": [
        "raw_test_preds_df.head()"
      ],
      "execution_count": null,
      "outputs": [
        {
          "output_type": "execute_result",
          "data": {
            "text/html": [
              "<div>\n",
              "<style scoped>\n",
              "    .dataframe tbody tr th:only-of-type {\n",
              "        vertical-align: middle;\n",
              "    }\n",
              "\n",
              "    .dataframe tbody tr th {\n",
              "        vertical-align: top;\n",
              "    }\n",
              "\n",
              "    .dataframe thead th {\n",
              "        text-align: right;\n",
              "    }\n",
              "</style>\n",
              "<table border=\"1\" class=\"dataframe\">\n",
              "  <thead>\n",
              "    <tr style=\"text-align: right;\">\n",
              "      <th></th>\n",
              "      <th>toxic</th>\n",
              "      <th>severe_toxic</th>\n",
              "      <th>obscene</th>\n",
              "      <th>threat</th>\n",
              "      <th>insult</th>\n",
              "      <th>identity_hate</th>\n",
              "    </tr>\n",
              "  </thead>\n",
              "  <tbody>\n",
              "    <tr>\n",
              "      <th>0</th>\n",
              "      <td>0.146690</td>\n",
              "      <td>0.085164</td>\n",
              "      <td>0.117351</td>\n",
              "      <td>0.084300</td>\n",
              "      <td>0.112938</td>\n",
              "      <td>0.083885</td>\n",
              "    </tr>\n",
              "    <tr>\n",
              "      <th>1</th>\n",
              "      <td>0.124212</td>\n",
              "      <td>0.066600</td>\n",
              "      <td>0.095716</td>\n",
              "      <td>0.066317</td>\n",
              "      <td>0.091824</td>\n",
              "      <td>0.065462</td>\n",
              "    </tr>\n",
              "    <tr>\n",
              "      <th>2</th>\n",
              "      <td>0.141376</td>\n",
              "      <td>0.080817</td>\n",
              "      <td>0.112091</td>\n",
              "      <td>0.080378</td>\n",
              "      <td>0.107862</td>\n",
              "      <td>0.079564</td>\n",
              "    </tr>\n",
              "    <tr>\n",
              "      <th>3</th>\n",
              "      <td>0.117010</td>\n",
              "      <td>0.060928</td>\n",
              "      <td>0.089011</td>\n",
              "      <td>0.060689</td>\n",
              "      <td>0.085251</td>\n",
              "      <td>0.059840</td>\n",
              "    </tr>\n",
              "    <tr>\n",
              "      <th>4</th>\n",
              "      <td>0.135783</td>\n",
              "      <td>0.076027</td>\n",
              "      <td>0.106684</td>\n",
              "      <td>0.075599</td>\n",
              "      <td>0.102547</td>\n",
              "      <td>0.074813</td>\n",
              "    </tr>\n",
              "  </tbody>\n",
              "</table>\n",
              "</div>"
            ],
            "text/plain": [
              "      toxic  severe_toxic   obscene    threat    insult  identity_hate\n",
              "0  0.146690      0.085164  0.117351  0.084300  0.112938       0.083885\n",
              "1  0.124212      0.066600  0.095716  0.066317  0.091824       0.065462\n",
              "2  0.141376      0.080817  0.112091  0.080378  0.107862       0.079564\n",
              "3  0.117010      0.060928  0.089011  0.060689  0.085251       0.059840\n",
              "4  0.135783      0.076027  0.106684  0.075599  0.102547       0.074813"
            ]
          },
          "metadata": {
            "tags": []
          },
          "execution_count": 52
        }
      ]
    },
    {
      "cell_type": "markdown",
      "metadata": {
        "id": "G0jW2lGHuL5k"
      },
      "source": [
        "## Create dataframe to submit to Kaggle"
      ]
    },
    {
      "cell_type": "code",
      "metadata": {
        "colab": {
          "base_uri": "https://localhost:8080/",
          "height": 204
        },
        "id": "lNltF_8FyDhq",
        "outputId": "282187c7-e321-47a3-92b8-967de6234182"
      },
      "source": [
        "sub_df = raw_test_preds_df.copy()\n",
        "sub_df['id'] = test_df['id']\n",
        "cols = ['id', 'toxic', 'severe_toxic', 'obscene', 'threat', 'insult', 'identity_hate']\n",
        "sub_df = sub_df[cols]\n",
        "\n",
        "sub_df.head()"
      ],
      "execution_count": null,
      "outputs": [
        {
          "output_type": "execute_result",
          "data": {
            "text/html": [
              "<div>\n",
              "<style scoped>\n",
              "    .dataframe tbody tr th:only-of-type {\n",
              "        vertical-align: middle;\n",
              "    }\n",
              "\n",
              "    .dataframe tbody tr th {\n",
              "        vertical-align: top;\n",
              "    }\n",
              "\n",
              "    .dataframe thead th {\n",
              "        text-align: right;\n",
              "    }\n",
              "</style>\n",
              "<table border=\"1\" class=\"dataframe\">\n",
              "  <thead>\n",
              "    <tr style=\"text-align: right;\">\n",
              "      <th></th>\n",
              "      <th>id</th>\n",
              "      <th>toxic</th>\n",
              "      <th>severe_toxic</th>\n",
              "      <th>obscene</th>\n",
              "      <th>threat</th>\n",
              "      <th>insult</th>\n",
              "      <th>identity_hate</th>\n",
              "    </tr>\n",
              "  </thead>\n",
              "  <tbody>\n",
              "    <tr>\n",
              "      <th>0</th>\n",
              "      <td>00001cee341fdb12</td>\n",
              "      <td>0.146690</td>\n",
              "      <td>0.085164</td>\n",
              "      <td>0.117351</td>\n",
              "      <td>0.084300</td>\n",
              "      <td>0.112938</td>\n",
              "      <td>0.083885</td>\n",
              "    </tr>\n",
              "    <tr>\n",
              "      <th>1</th>\n",
              "      <td>0000247867823ef7</td>\n",
              "      <td>0.124212</td>\n",
              "      <td>0.066600</td>\n",
              "      <td>0.095716</td>\n",
              "      <td>0.066317</td>\n",
              "      <td>0.091824</td>\n",
              "      <td>0.065462</td>\n",
              "    </tr>\n",
              "    <tr>\n",
              "      <th>2</th>\n",
              "      <td>00013b17ad220c46</td>\n",
              "      <td>0.141376</td>\n",
              "      <td>0.080817</td>\n",
              "      <td>0.112091</td>\n",
              "      <td>0.080378</td>\n",
              "      <td>0.107862</td>\n",
              "      <td>0.079564</td>\n",
              "    </tr>\n",
              "    <tr>\n",
              "      <th>3</th>\n",
              "      <td>00017563c3f7919a</td>\n",
              "      <td>0.117010</td>\n",
              "      <td>0.060928</td>\n",
              "      <td>0.089011</td>\n",
              "      <td>0.060689</td>\n",
              "      <td>0.085251</td>\n",
              "      <td>0.059840</td>\n",
              "    </tr>\n",
              "    <tr>\n",
              "      <th>4</th>\n",
              "      <td>00017695ad8997eb</td>\n",
              "      <td>0.135783</td>\n",
              "      <td>0.076027</td>\n",
              "      <td>0.106684</td>\n",
              "      <td>0.075599</td>\n",
              "      <td>0.102547</td>\n",
              "      <td>0.074813</td>\n",
              "    </tr>\n",
              "  </tbody>\n",
              "</table>\n",
              "</div>"
            ],
            "text/plain": [
              "                 id     toxic  severe_toxic  ...    threat    insult  identity_hate\n",
              "0  00001cee341fdb12  0.146690      0.085164  ...  0.084300  0.112938       0.083885\n",
              "1  0000247867823ef7  0.124212      0.066600  ...  0.066317  0.091824       0.065462\n",
              "2  00013b17ad220c46  0.141376      0.080817  ...  0.080378  0.107862       0.079564\n",
              "3  00017563c3f7919a  0.117010      0.060928  ...  0.060689  0.085251       0.059840\n",
              "4  00017695ad8997eb  0.135783      0.076027  ...  0.075599  0.102547       0.074813\n",
              "\n",
              "[5 rows x 7 columns]"
            ]
          },
          "metadata": {
            "tags": []
          },
          "execution_count": 53
        }
      ]
    },
    {
      "cell_type": "code",
      "metadata": {
        "id": "lZ9A4hpTyDmi"
      },
      "source": [
        "sub_df.to_csv('submission.csv', index=False)"
      ],
      "execution_count": null,
      "outputs": []
    },
    {
      "cell_type": "code",
      "metadata": {
        "colab": {
          "base_uri": "https://localhost:8080/"
        },
        "id": "d6wCicVc1ChJ",
        "outputId": "94457935-9fff-48f9-cec0-a4edabb7dec1"
      },
      "source": [
        "SUB_PATH = f\"{path}/submission.csv\"\n",
        "!kaggle competitions submit -c 'jigsaw-toxic-comment-classification-challenge' -f 'submission.csv' -m '1st submission with Universal Sentence Encoder'"
      ],
      "execution_count": null,
      "outputs": [
        {
          "output_type": "stream",
          "text": [
            "Warning: Looks like you're using an outdated API Version, please consider updating (server 1.5.12 / client 1.5.4)\n",
            "100% 12.6M/12.6M [00:02<00:00, 6.26MB/s]\n",
            "Successfully submitted to Toxic Comment Classification Challenge"
          ],
          "name": "stdout"
        }
      ]
    }
  ]
}