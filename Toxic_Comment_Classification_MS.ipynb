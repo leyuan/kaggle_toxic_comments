{
 "cells": [
  {
   "cell_type": "markdown",
   "source": [
    "# Toxic Comment Classification"
   ],
   "metadata": {}
  },
  {
   "cell_type": "code",
   "execution_count": 1,
   "source": [
    "'''\n",
    "This script predicts toxic comments using a multi-label classification model. \n",
    "Several models were built and evaluated, the best models were used for predicting\n",
    "the probability that a comment is considered toxic, i.e. belonging to any of \n",
    "6 categoires of toxic comments. \n",
    "'''\n",
    "__author__ = \"Mahsa Shokouhi\"\n",
    "__email__ = \"mahsa_shokouhi@yahoo.com\""
   ],
   "outputs": [
    {
     "output_type": "execute_result",
     "data": {
      "text/plain": [
       "'\\n'"
      ]
     },
     "metadata": {},
     "execution_count": 1
    }
   ],
   "metadata": {}
  },
  {
   "cell_type": "markdown",
   "source": [
    "# Import Packages"
   ],
   "metadata": {}
  },
  {
   "cell_type": "code",
   "execution_count": 2,
   "source": [
    "import warnings\n",
    "warnings.filterwarnings('ignore')\n",
    "\n",
    "import pandas as pd\n",
    "import numpy as np\n",
    "import matplotlib.pyplot as plt\n",
    "import seaborn as sns\n",
    "\n",
    "from sklearn.feature_extraction.text import TfidfVectorizer\n",
    "from sklearn.metrics import (hamming_loss, accuracy_score, roc_auc_score,\n",
    "                             classification_report, multilabel_confusion_matrix, \n",
    "                             fbeta_score, f1_score)\n",
    "\n",
    "from sklearn.tree import DecisionTreeClassifier\n",
    "from sklearn.ensemble import RandomForestClassifier\n",
    "from sklearn.linear_model import LogisticRegression\n",
    "from sklearn.multioutput import ClassifierChain\n",
    "from sklearn.dummy import DummyClassifier\n",
    "\n",
    "from lightgbm import LGBMClassifier\n",
    "\n",
    "from skmultilearn.model_selection import IterativeStratification\n",
    "\n",
    "pd.set_option('precision', 6)\n",
    "%matplotlib inline"
   ],
   "outputs": [],
   "metadata": {}
  },
  {
   "cell_type": "markdown",
   "source": [
    "# Define Functions"
   ],
   "metadata": {}
  },
  {
   "cell_type": "code",
   "execution_count": 3,
   "source": [
    " def stratified_split (X, Y, test_size):\n",
    "    '''Stratified train-test split given specified test_size'''\n",
    "    stratifier = IterativeStratification(n_splits=2, order=2, \n",
    "                                        sample_distribution_per_fold=[test_size, \n",
    "                                                                      1-test_size])\n",
    "    train_indexes, test_indexes = next(stratifier.split(X, Y))\n",
    "    X_train, Y_train = X[train_indexes], Y.iloc[train_indexes, :]\n",
    "    X_test, Y_test = X[test_indexes], Y.iloc[test_indexes, :]\n",
    "    return X_train, X_test, Y_train, Y_test\n",
    "\n",
    "\n",
    "def evaluate_model(model, X_train, Y_train, n_folds=3):\n",
    "   '''Evaluate a model using stratified k-fold cross-validation.\n",
    "   prints out mean accuracy, mean hamming loss, and mean f1-score across folds'''\n",
    "   acc_train = []\n",
    "   acc_test = []\n",
    "   loss_train = []\n",
    "   loss_test = []\n",
    "   f1_train = []\n",
    "   f1_test =[]\n",
    "\n",
    "   k_fold = IterativeStratification(n_splits=n_folds, order=2)\n",
    "\n",
    "   for tr_index, ts_index in k_fold.split(X_train, Y_train):\n",
    "      model.fit(X_train[tr_index], Y_train.iloc[tr_index])\n",
    "      pred_train = model.predict(X_train[tr_index])\n",
    "      pred_test = model.predict(X_train[ts_index])\n",
    "      acc_train.append(accuracy_score(Y_train.iloc[tr_index], pred_train))\n",
    "      acc_test.append(accuracy_score(Y_train.iloc[ts_index], pred_test))\n",
    "      loss_train.append(hamming_loss(Y_train.iloc[tr_index], pred_train))\n",
    "      loss_test.append(hamming_loss(Y_train.iloc[ts_index], pred_test))\n",
    "      f1_train.append(f1_score(Y_train.iloc[tr_index], pred_train, average='micro'))\n",
    "      f1_test.append(f1_score(Y_train.iloc[ts_index], pred_test, average='micro'))\n",
    "\n",
    "   print('Train set:\\n')\n",
    "   print(f'Mean accuracy score: {np.mean(acc_train)}, \\n'\n",
    "         f'Mean loss: {np.mean(loss_train)}, \\n'\n",
    "         f'Mean F1-score:{np.mean(f1_train)}')\n",
    "   print('\\nTest set:\\n')\n",
    "   print(f'Mean accuracy score: {np.mean(acc_test)}, \\n'\n",
    "         f'Mean loss: {np.mean(loss_test)}, \\n'\n",
    "         f'Mean F1-score:{np.mean(f1_test)}')"
   ],
   "outputs": [],
   "metadata": {}
  },
  {
   "cell_type": "markdown",
   "source": [
    "# Load Data\n",
    "\n",
    "## Train set"
   ],
   "metadata": {}
  },
  {
   "cell_type": "code",
   "execution_count": 4,
   "source": [
    "train = pd.read_csv('../Data/train.csv')\n",
    "print(train.shape)\n",
    "train.head()"
   ],
   "outputs": [
    {
     "output_type": "stream",
     "name": "stdout",
     "text": [
      "(159571, 8)\n"
     ]
    },
    {
     "output_type": "execute_result",
     "data": {
      "text/plain": [
       "                 id                                       comment_text  toxic  \\\n",
       "0  0000997932d777bf  Explanation\\nWhy the edits made under my usern...      0   \n",
       "1  000103f0d9cfb60f  D'aww! He matches this background colour I'm s...      0   \n",
       "2  000113f07ec002fd  Hey man, I'm really not trying to edit war. It...      0   \n",
       "3  0001b41b1c6bb37e  \"\\nMore\\nI can't make any real suggestions on ...      0   \n",
       "4  0001d958c54c6e35  You, sir, are my hero. Any chance you remember...      0   \n",
       "\n",
       "   severe_toxic  obscene  threat  insult  identity_hate  \n",
       "0             0        0       0       0              0  \n",
       "1             0        0       0       0              0  \n",
       "2             0        0       0       0              0  \n",
       "3             0        0       0       0              0  \n",
       "4             0        0       0       0              0  "
      ],
      "text/html": [
       "<div>\n",
       "<style scoped>\n",
       "    .dataframe tbody tr th:only-of-type {\n",
       "        vertical-align: middle;\n",
       "    }\n",
       "\n",
       "    .dataframe tbody tr th {\n",
       "        vertical-align: top;\n",
       "    }\n",
       "\n",
       "    .dataframe thead th {\n",
       "        text-align: right;\n",
       "    }\n",
       "</style>\n",
       "<table border=\"1\" class=\"dataframe\">\n",
       "  <thead>\n",
       "    <tr style=\"text-align: right;\">\n",
       "      <th></th>\n",
       "      <th>id</th>\n",
       "      <th>comment_text</th>\n",
       "      <th>toxic</th>\n",
       "      <th>severe_toxic</th>\n",
       "      <th>obscene</th>\n",
       "      <th>threat</th>\n",
       "      <th>insult</th>\n",
       "      <th>identity_hate</th>\n",
       "    </tr>\n",
       "  </thead>\n",
       "  <tbody>\n",
       "    <tr>\n",
       "      <th>0</th>\n",
       "      <td>0000997932d777bf</td>\n",
       "      <td>Explanation\\nWhy the edits made under my usern...</td>\n",
       "      <td>0</td>\n",
       "      <td>0</td>\n",
       "      <td>0</td>\n",
       "      <td>0</td>\n",
       "      <td>0</td>\n",
       "      <td>0</td>\n",
       "    </tr>\n",
       "    <tr>\n",
       "      <th>1</th>\n",
       "      <td>000103f0d9cfb60f</td>\n",
       "      <td>D'aww! He matches this background colour I'm s...</td>\n",
       "      <td>0</td>\n",
       "      <td>0</td>\n",
       "      <td>0</td>\n",
       "      <td>0</td>\n",
       "      <td>0</td>\n",
       "      <td>0</td>\n",
       "    </tr>\n",
       "    <tr>\n",
       "      <th>2</th>\n",
       "      <td>000113f07ec002fd</td>\n",
       "      <td>Hey man, I'm really not trying to edit war. It...</td>\n",
       "      <td>0</td>\n",
       "      <td>0</td>\n",
       "      <td>0</td>\n",
       "      <td>0</td>\n",
       "      <td>0</td>\n",
       "      <td>0</td>\n",
       "    </tr>\n",
       "    <tr>\n",
       "      <th>3</th>\n",
       "      <td>0001b41b1c6bb37e</td>\n",
       "      <td>\"\\nMore\\nI can't make any real suggestions on ...</td>\n",
       "      <td>0</td>\n",
       "      <td>0</td>\n",
       "      <td>0</td>\n",
       "      <td>0</td>\n",
       "      <td>0</td>\n",
       "      <td>0</td>\n",
       "    </tr>\n",
       "    <tr>\n",
       "      <th>4</th>\n",
       "      <td>0001d958c54c6e35</td>\n",
       "      <td>You, sir, are my hero. Any chance you remember...</td>\n",
       "      <td>0</td>\n",
       "      <td>0</td>\n",
       "      <td>0</td>\n",
       "      <td>0</td>\n",
       "      <td>0</td>\n",
       "      <td>0</td>\n",
       "    </tr>\n",
       "  </tbody>\n",
       "</table>\n",
       "</div>"
      ]
     },
     "metadata": {},
     "execution_count": 4
    }
   ],
   "metadata": {}
  },
  {
   "cell_type": "code",
   "execution_count": 5,
   "source": [
    "# Define labels (toxic comments subgroups)\n",
    "labels = train.columns[2:]\n",
    "labels"
   ],
   "outputs": [
    {
     "output_type": "execute_result",
     "data": {
      "text/plain": [
       "Index(['toxic', 'severe_toxic', 'obscene', 'threat', 'insult',\n",
       "       'identity_hate'],\n",
       "      dtype='object')"
      ]
     },
     "metadata": {},
     "execution_count": 5
    }
   ],
   "metadata": {}
  },
  {
   "cell_type": "code",
   "execution_count": 6,
   "source": [
    "# Check for missing values in each column\n",
    "train.isnull().sum()"
   ],
   "outputs": [
    {
     "output_type": "execute_result",
     "data": {
      "text/plain": [
       "id               0\n",
       "comment_text     0\n",
       "toxic            0\n",
       "severe_toxic     0\n",
       "obscene          0\n",
       "threat           0\n",
       "insult           0\n",
       "identity_hate    0\n",
       "dtype: int64"
      ]
     },
     "metadata": {},
     "execution_count": 6
    }
   ],
   "metadata": {}
  },
  {
   "cell_type": "code",
   "execution_count": 7,
   "source": [
    "# Check all labels are either 0 or 1\n",
    "[train[col].unique() for col in labels]"
   ],
   "outputs": [
    {
     "output_type": "execute_result",
     "data": {
      "text/plain": [
       "[array([0, 1]),\n",
       " array([0, 1]),\n",
       " array([0, 1]),\n",
       " array([0, 1]),\n",
       " array([0, 1]),\n",
       " array([0, 1])]"
      ]
     },
     "metadata": {},
     "execution_count": 7
    }
   ],
   "metadata": {}
  },
  {
   "cell_type": "markdown",
   "source": [
    "## Test set"
   ],
   "metadata": {}
  },
  {
   "cell_type": "code",
   "execution_count": 8,
   "source": [
    "test = pd.read_csv('../Data/test.csv')\n",
    "test_labels = pd.read_csv('../Data/test_labels.csv')\n",
    "\n",
    "# Merge the two sets\n",
    "test_labelled = pd.merge(test, test_labels, how='left', on='id')\n",
    "print(test_labelled.shape)\n",
    "test_labelled.head()"
   ],
   "outputs": [
    {
     "output_type": "stream",
     "name": "stdout",
     "text": [
      "(153164, 8)\n"
     ]
    },
    {
     "output_type": "execute_result",
     "data": {
      "text/plain": [
       "                 id                                       comment_text  toxic  \\\n",
       "0  00001cee341fdb12  Yo bitch Ja Rule is more succesful then you'll...     -1   \n",
       "1  0000247867823ef7  == From RfC == \\n\\n The title is fine as it is...     -1   \n",
       "2  00013b17ad220c46  \" \\n\\n == Sources == \\n\\n * Zawe Ashton on Lap...     -1   \n",
       "3  00017563c3f7919a  :If you have a look back at the source, the in...     -1   \n",
       "4  00017695ad8997eb          I don't anonymously edit articles at all.     -1   \n",
       "\n",
       "   severe_toxic  obscene  threat  insult  identity_hate  \n",
       "0            -1       -1      -1      -1             -1  \n",
       "1            -1       -1      -1      -1             -1  \n",
       "2            -1       -1      -1      -1             -1  \n",
       "3            -1       -1      -1      -1             -1  \n",
       "4            -1       -1      -1      -1             -1  "
      ],
      "text/html": [
       "<div>\n",
       "<style scoped>\n",
       "    .dataframe tbody tr th:only-of-type {\n",
       "        vertical-align: middle;\n",
       "    }\n",
       "\n",
       "    .dataframe tbody tr th {\n",
       "        vertical-align: top;\n",
       "    }\n",
       "\n",
       "    .dataframe thead th {\n",
       "        text-align: right;\n",
       "    }\n",
       "</style>\n",
       "<table border=\"1\" class=\"dataframe\">\n",
       "  <thead>\n",
       "    <tr style=\"text-align: right;\">\n",
       "      <th></th>\n",
       "      <th>id</th>\n",
       "      <th>comment_text</th>\n",
       "      <th>toxic</th>\n",
       "      <th>severe_toxic</th>\n",
       "      <th>obscene</th>\n",
       "      <th>threat</th>\n",
       "      <th>insult</th>\n",
       "      <th>identity_hate</th>\n",
       "    </tr>\n",
       "  </thead>\n",
       "  <tbody>\n",
       "    <tr>\n",
       "      <th>0</th>\n",
       "      <td>00001cee341fdb12</td>\n",
       "      <td>Yo bitch Ja Rule is more succesful then you'll...</td>\n",
       "      <td>-1</td>\n",
       "      <td>-1</td>\n",
       "      <td>-1</td>\n",
       "      <td>-1</td>\n",
       "      <td>-1</td>\n",
       "      <td>-1</td>\n",
       "    </tr>\n",
       "    <tr>\n",
       "      <th>1</th>\n",
       "      <td>0000247867823ef7</td>\n",
       "      <td>== From RfC == \\n\\n The title is fine as it is...</td>\n",
       "      <td>-1</td>\n",
       "      <td>-1</td>\n",
       "      <td>-1</td>\n",
       "      <td>-1</td>\n",
       "      <td>-1</td>\n",
       "      <td>-1</td>\n",
       "    </tr>\n",
       "    <tr>\n",
       "      <th>2</th>\n",
       "      <td>00013b17ad220c46</td>\n",
       "      <td>\" \\n\\n == Sources == \\n\\n * Zawe Ashton on Lap...</td>\n",
       "      <td>-1</td>\n",
       "      <td>-1</td>\n",
       "      <td>-1</td>\n",
       "      <td>-1</td>\n",
       "      <td>-1</td>\n",
       "      <td>-1</td>\n",
       "    </tr>\n",
       "    <tr>\n",
       "      <th>3</th>\n",
       "      <td>00017563c3f7919a</td>\n",
       "      <td>:If you have a look back at the source, the in...</td>\n",
       "      <td>-1</td>\n",
       "      <td>-1</td>\n",
       "      <td>-1</td>\n",
       "      <td>-1</td>\n",
       "      <td>-1</td>\n",
       "      <td>-1</td>\n",
       "    </tr>\n",
       "    <tr>\n",
       "      <th>4</th>\n",
       "      <td>00017695ad8997eb</td>\n",
       "      <td>I don't anonymously edit articles at all.</td>\n",
       "      <td>-1</td>\n",
       "      <td>-1</td>\n",
       "      <td>-1</td>\n",
       "      <td>-1</td>\n",
       "      <td>-1</td>\n",
       "      <td>-1</td>\n",
       "    </tr>\n",
       "  </tbody>\n",
       "</table>\n",
       "</div>"
      ]
     },
     "metadata": {},
     "execution_count": 8
    }
   ],
   "metadata": {}
  },
  {
   "cell_type": "code",
   "execution_count": 9,
   "source": [
    "# Remove unlabelled rows from the test set (label=-1)\n",
    "is_labelled = test_labelled.iloc[:, 2:] != -1\n",
    "test_labelled = test_labelled[is_labelled.all(axis='columns')]\n",
    "print(test_labelled.shape)\n",
    "\n",
    "# Confirm the removal of unlabelled rows\n",
    "[test_labelled[col].unique() for col in labels]"
   ],
   "outputs": [
    {
     "output_type": "stream",
     "name": "stdout",
     "text": [
      "(63978, 8)\n"
     ]
    },
    {
     "output_type": "execute_result",
     "data": {
      "text/plain": [
       "[array([0, 1]),\n",
       " array([0, 1]),\n",
       " array([0, 1]),\n",
       " array([0, 1]),\n",
       " array([0, 1]),\n",
       " array([0, 1])]"
      ]
     },
     "metadata": {},
     "execution_count": 9
    }
   ],
   "metadata": {}
  },
  {
   "cell_type": "markdown",
   "source": [
    "# Exploratory Data Analysis"
   ],
   "metadata": {}
  },
  {
   "cell_type": "code",
   "execution_count": 10,
   "source": [
    "# Number of positive samples for each label (toxic types)\n",
    "print(train.iloc[:, 2:].sum())\n",
    "\n",
    "# Total number of rows with and without any type of toxic comments\n",
    "n_nonToxic = train[train.iloc[:, 2:].sum(axis=1) == 0].shape[0]\n",
    "n_toxic = train.shape[0] - n_nonToxic\n",
    "print(f'There are {n_nonToxic} non-toxic and {n_toxic} toxic comments')"
   ],
   "outputs": [
    {
     "output_type": "stream",
     "name": "stdout",
     "text": [
      "toxic            15294\n",
      "severe_toxic      1595\n",
      "obscene           8449\n",
      "threat             478\n",
      "insult            7877\n",
      "identity_hate     1405\n",
      "dtype: int64\n",
      "There are 143346 non-toxic and 16225 toxic comments\n"
     ]
    }
   ],
   "metadata": {}
  },
  {
   "cell_type": "code",
   "execution_count": 11,
   "source": [
    "# Check correlation between labels\n",
    "sns.set(font_scale=1.3)\n",
    "plt.figure(figsize=(14, 12))\n",
    "sns.heatmap(train.iloc[:, 2:].corr(), xticklabels=labels, yticklabels=labels, \n",
    "            cmap=\"RdBu_r\", annot=True)\n",
    "plt.title('Correlation between labels', fontsize=30)\n",
    "plt.show()"
   ],
   "outputs": [
    {
     "output_type": "display_data",
     "data": {
      "text/plain": [
       "<Figure size 1008x864 with 2 Axes>"
      ],
      "image/png": "[encoded data removed]"
     },
     "metadata": {}
    }
   ],
   "metadata": {}
  },
  {
   "cell_type": "markdown",
   "source": [
    "## Compare percentage of labels in the train and test sets"
   ],
   "metadata": {}
  },
  {
   "cell_type": "code",
   "execution_count": 12,
   "source": [
    "# Train set\n",
    "train_perentage = pd.DataFrame(\n",
    "    train.iloc[:, 2:].value_counts(normalize=True, sort=False)).reset_index()\n",
    "train_perentage.columns = list(labels) + ['train_percentage']\n",
    "print(train_perentage.shape)\n",
    "print('Lables percentages in the train set:')\n",
    "print(train_perentage.head())\n",
    "\n",
    "# Test set\n",
    "test_perentage = pd.DataFrame(\n",
    "    test_labelled.iloc[:, 2:].value_counts(normalize=True, sort=False)).reset_index()\n",
    "test_perentage.columns = list(labels) + ['test_percentage']\n",
    "print(test_perentage.shape)\n",
    "print('Lables percentages in the train set:')\n",
    "print(test_perentage.head())\n",
    "\n",
    "# Merge the tow sets\n",
    "labels_perentages = pd.merge(train_perentage, test_perentage, \n",
    "                             how='left', on=list(labels))\n",
    "print(labels_perentages.shape)\n",
    "labels_perentages.head()"
   ],
   "outputs": [
    {
     "output_type": "stream",
     "name": "stdout",
     "text": [
      "(41, 7)\n",
      "Lables percentages in the train set:\n",
      "   toxic  severe_toxic  obscene  threat  insult  identity_hate  \\\n",
      "0      0             0        0       0       0              0   \n",
      "1      0             0        0       0       0              1   \n",
      "2      0             0        0       0       1              0   \n",
      "3      0             0        0       0       1              1   \n",
      "4      0             0        0       1       0              0   \n",
      "\n",
      "   train_percentage  \n",
      "0          0.898321  \n",
      "1          0.000338  \n",
      "2          0.001886  \n",
      "3          0.000175  \n",
      "4          0.000138  \n",
      "(31, 7)\n",
      "Lables percentages in the train set:\n",
      "   toxic  severe_toxic  obscene  threat  insult  identity_hate  \\\n",
      "0      0             0        0       0       0              0   \n",
      "1      0             0        0       0       0              1   \n",
      "2      0             0        0       0       1              0   \n",
      "3      0             0        0       0       1              1   \n",
      "4      0             0        0       1       0              0   \n",
      "\n",
      "   test_percentage  \n",
      "0         0.902420  \n",
      "1         0.000219  \n",
      "2         0.001000  \n",
      "3         0.000063  \n",
      "4         0.000078  \n",
      "(41, 8)\n"
     ]
    },
    {
     "output_type": "execute_result",
     "data": {
      "text/plain": [
       "   toxic  severe_toxic  obscene  threat  insult  identity_hate  \\\n",
       "0      0             0        0       0       0              0   \n",
       "1      0             0        0       0       0              1   \n",
       "2      0             0        0       0       1              0   \n",
       "3      0             0        0       0       1              1   \n",
       "4      0             0        0       1       0              0   \n",
       "\n",
       "   train_percentage  test_percentage  \n",
       "0          0.898321         0.902420  \n",
       "1          0.000338         0.000219  \n",
       "2          0.001886         0.001000  \n",
       "3          0.000175         0.000063  \n",
       "4          0.000138         0.000078  "
      ],
      "text/html": [
       "<div>\n",
       "<style scoped>\n",
       "    .dataframe tbody tr th:only-of-type {\n",
       "        vertical-align: middle;\n",
       "    }\n",
       "\n",
       "    .dataframe tbody tr th {\n",
       "        vertical-align: top;\n",
       "    }\n",
       "\n",
       "    .dataframe thead th {\n",
       "        text-align: right;\n",
       "    }\n",
       "</style>\n",
       "<table border=\"1\" class=\"dataframe\">\n",
       "  <thead>\n",
       "    <tr style=\"text-align: right;\">\n",
       "      <th></th>\n",
       "      <th>toxic</th>\n",
       "      <th>severe_toxic</th>\n",
       "      <th>obscene</th>\n",
       "      <th>threat</th>\n",
       "      <th>insult</th>\n",
       "      <th>identity_hate</th>\n",
       "      <th>train_percentage</th>\n",
       "      <th>test_percentage</th>\n",
       "    </tr>\n",
       "  </thead>\n",
       "  <tbody>\n",
       "    <tr>\n",
       "      <th>0</th>\n",
       "      <td>0</td>\n",
       "      <td>0</td>\n",
       "      <td>0</td>\n",
       "      <td>0</td>\n",
       "      <td>0</td>\n",
       "      <td>0</td>\n",
       "      <td>0.898321</td>\n",
       "      <td>0.902420</td>\n",
       "    </tr>\n",
       "    <tr>\n",
       "      <th>1</th>\n",
       "      <td>0</td>\n",
       "      <td>0</td>\n",
       "      <td>0</td>\n",
       "      <td>0</td>\n",
       "      <td>0</td>\n",
       "      <td>1</td>\n",
       "      <td>0.000338</td>\n",
       "      <td>0.000219</td>\n",
       "    </tr>\n",
       "    <tr>\n",
       "      <th>2</th>\n",
       "      <td>0</td>\n",
       "      <td>0</td>\n",
       "      <td>0</td>\n",
       "      <td>0</td>\n",
       "      <td>1</td>\n",
       "      <td>0</td>\n",
       "      <td>0.001886</td>\n",
       "      <td>0.001000</td>\n",
       "    </tr>\n",
       "    <tr>\n",
       "      <th>3</th>\n",
       "      <td>0</td>\n",
       "      <td>0</td>\n",
       "      <td>0</td>\n",
       "      <td>0</td>\n",
       "      <td>1</td>\n",
       "      <td>1</td>\n",
       "      <td>0.000175</td>\n",
       "      <td>0.000063</td>\n",
       "    </tr>\n",
       "    <tr>\n",
       "      <th>4</th>\n",
       "      <td>0</td>\n",
       "      <td>0</td>\n",
       "      <td>0</td>\n",
       "      <td>1</td>\n",
       "      <td>0</td>\n",
       "      <td>0</td>\n",
       "      <td>0.000138</td>\n",
       "      <td>0.000078</td>\n",
       "    </tr>\n",
       "  </tbody>\n",
       "</table>\n",
       "</div>"
      ]
     },
     "metadata": {},
     "execution_count": 12
    }
   ],
   "metadata": {}
  },
  {
   "cell_type": "code",
   "execution_count": 13,
   "source": [
    "# Plot labels frequencies (percentage) for train and test sets\n",
    "labels_perentages.set_index(list(labels), inplace=True)\n",
    "labels_perentages.plot(kind='bar', logy=True, figsize=(20, 8), fontsize=12);\n",
    "plt.legend(fontsize=15);\n",
    "plt.xlabel(list(labels), fontsize=18);\n",
    "plt.ylabel('Log Precentage', fontsize=18);"
   ],
   "outputs": [
    {
     "output_type": "display_data",
     "data": {
      "text/plain": [
       "<Figure size 1440x576 with 1 Axes>"
      ],
      "image/png": "[encoded data removed]"
     },
     "metadata": {}
    }
   ],
   "metadata": {}
  },
  {
   "cell_type": "markdown",
   "source": [
    "# Preprocessing"
   ],
   "metadata": {}
  },
  {
   "cell_type": "code",
   "execution_count": 14,
   "source": [
    "# Target variables: labels\n",
    "Y = train.iloc[:, 2:]\n",
    "\n",
    "# Features: Grid search for the max number of features with TfidfVectorizer\n",
    "TVs = [TfidfVectorizer(max_features=5000*i, ngram_range=(1, 2), \n",
    "                       strip_accents='unicode', lowercase=True, \n",
    "                       stop_words='english') \n",
    "       for i in range(1, 11)]\n",
    "\n",
    "scores = []\n",
    "losses = []\n",
    "for i in range(len(TVs)):\n",
    "    X = TVs[i].fit_transform(train['comment_text'])\n",
    "    # Train-test split\n",
    "    X_train, X_test, Y_train, Y_test = stratified_split(X, Y, test_size=0.3)\n",
    "    # Training\n",
    "    classifier = ClassifierChain(LogisticRegression(max_iter=5000, \n",
    "                                                    random_state=100))\n",
    "    classifier.fit(X_train, Y_train)\n",
    "    predicted = classifier.predict(X_test)\n",
    "    scores.append(accuracy_score(Y_test, predicted))\n",
    "    losses.append(hamming_loss(Y_test, predicted))\n",
    "\n",
    "print(f'scores:\\n{scores}')\n",
    "print(f'losses:\\n{losses}')"
   ],
   "outputs": [
    {
     "output_type": "stream",
     "name": "stdout",
     "text": [
      "scores:\n",
      "[0.91876253342246, 0.9198696524064172, 0.9198278743315508, 0.9190967580213903, 0.9195772058823529, 0.9193683155080213, 0.9197860962566845, 0.9196189839572193, 0.9192638703208557, 0.919180314171123]\n",
      "losses:\n",
      "[0.019691399286987522, 0.019423323306595366, 0.019562583556149732, 0.019726214349376114, 0.019510360962566847, 0.019691399286987522, 0.019604361631016042, 0.01966006573083779, 0.019837622549019607, 0.019792362967914437]\n"
     ]
    }
   ],
   "metadata": {}
  },
  {
   "cell_type": "code",
   "execution_count": 15,
   "source": [
    "# Text preprocessing with max_features=10000\n",
    "tv = TVs[1]\n",
    "X = tv.fit_transform(train['comment_text'])\n",
    "\n",
    "# Train-test split\n",
    "X_train, X_test, Y_train, Y_test = stratified_split(X, Y, test_size=0.3)\n",
    "\n",
    "print(X_train.shape, Y_train.shape, X_test.shape, Y_test.shape)"
   ],
   "outputs": [
    {
     "output_type": "stream",
     "name": "stdout",
     "text": [
      "(111699, 10000) (111699, 6) (47872, 10000) (47872, 6)\n"
     ]
    }
   ],
   "metadata": {}
  },
  {
   "cell_type": "markdown",
   "source": [
    "# Baseline Model"
   ],
   "metadata": {}
  },
  {
   "cell_type": "code",
   "execution_count": 16,
   "source": [
    "# Define a dummy classifier for comparison\n",
    "BL = DummyClassifier(strategy='stratified', random_state=100)\n",
    "BL.fit(X_train, Y_train)\n",
    "pred_train = BL.predict(X_train)\n",
    "pred_test = BL.predict(X_test)\n",
    "\n",
    "print('Classification report for test set')\n",
    "print(classification_report(Y_test, pred_test, target_names=labels))\n",
    "print('Classification report for train set')\n",
    "print(classification_report(Y_train, pred_train, target_names=labels))"
   ],
   "outputs": [
    {
     "output_type": "stream",
     "name": "stdout",
     "text": [
      "Classification report for test set\n",
      "               precision    recall  f1-score   support\n",
      "\n",
      "        toxic       0.09      0.09      0.09      4588\n",
      " severe_toxic       0.01      0.01      0.01       478\n",
      "      obscene       0.05      0.05      0.05      2535\n",
      "       threat       0.00      0.00      0.00       143\n",
      "       insult       0.05      0.05      0.05      2363\n",
      "identity_hate       0.01      0.01      0.01       425\n",
      "\n",
      "    micro avg       0.06      0.06      0.06     10532\n",
      "    macro avg       0.03      0.03      0.03     10532\n",
      " weighted avg       0.06      0.06      0.06     10532\n",
      "  samples avg       0.01      0.01      0.01     10532\n",
      "\n",
      "Classification report for train set\n",
      "               precision    recall  f1-score   support\n",
      "\n",
      "        toxic       0.10      0.10      0.10     10706\n",
      " severe_toxic       0.01      0.01      0.01      1117\n",
      "      obscene       0.06      0.06      0.06      5914\n",
      "       threat       0.00      0.00      0.00       335\n",
      "       insult       0.05      0.05      0.05      5514\n",
      "identity_hate       0.01      0.01      0.01       980\n",
      "\n",
      "    micro avg       0.07      0.07      0.07     24566\n",
      "    macro avg       0.04      0.04      0.04     24566\n",
      " weighted avg       0.07      0.07      0.07     24566\n",
      "  samples avg       0.01      0.01      0.01     24566\n",
      "\n"
     ]
    }
   ],
   "metadata": {}
  },
  {
   "cell_type": "markdown",
   "source": [
    "# Text classification\n",
    "## Model selection: Spot check algorithms"
   ],
   "metadata": {}
  },
  {
   "cell_type": "code",
   "execution_count": 17,
   "source": [
    "%%time\n",
    "\n",
    "# 1. Classifier Chains with DecisionTreeClassifier\n",
    "cc_tree = ClassifierChain(DecisionTreeClassifier(random_state=100))\n",
    "evaluate_model(cc_tree, X_train, Y_train, n_folds=3)"
   ],
   "outputs": [
    {
     "output_type": "stream",
     "name": "stdout",
     "text": [
      "Train set:\n",
      "\n",
      "Mean accuracy score: 0.9976051710400272, \n",
      "Mean loss: 0.0006274302664601593, \n",
      "Mean F1-score:0.9913860201067716\n",
      "\n",
      "Test set:\n",
      "\n",
      "Mean accuracy score: 0.8941888468115202, \n",
      "Mean loss: 0.026347594875513653, \n",
      "Mean F1-score:0.634614255722826\n",
      "CPU times: user 14min 24s, sys: 17.9 s, total: 14min 41s\n",
      "Wall time: 15min 33s\n"
     ]
    }
   ],
   "metadata": {}
  },
  {
   "cell_type": "code",
   "execution_count": 18,
   "source": [
    "%%time\n",
    "\n",
    "# 2. Classifier Chains with RandomForestClassifier\n",
    "cc_rf= ClassifierChain(RandomForestClassifier(max_depth=60, max_features=250))\n",
    "evaluate_model(cc_rf, X_train, Y_train, n_folds=3)"
   ],
   "outputs": [
    {
     "output_type": "stream",
     "name": "stdout",
     "text": [
      "Train set:\n",
      "\n",
      "Mean accuracy score: 0.9514095918495241, \n",
      "Mean loss: 0.011657072429774066, \n",
      "Mean F1-score:0.8136214701604129\n",
      "\n",
      "Test set:\n",
      "\n",
      "Mean accuracy score: 0.9171165364058765, \n",
      "Mean loss: 0.020200121158948006, \n",
      "Mean F1-score:0.6775953515195156\n",
      "CPU times: user 24min 36s, sys: 30.5 s, total: 25min 7s\n",
      "Wall time: 25min 57s\n"
     ]
    }
   ],
   "metadata": {}
  },
  {
   "cell_type": "code",
   "execution_count": 20,
   "source": [
    "%%time\n",
    "\n",
    "# 3. Classifier Chains with LogisticRegression\n",
    "cc_lg = ClassifierChain(LogisticRegression(max_iter=1000))\n",
    "evaluate_model(cc_lg, X_train, Y_train, n_folds=3)"
   ],
   "outputs": [
    {
     "output_type": "stream",
     "name": "stdout",
     "text": [
      "Train set:\n",
      "\n",
      "Mean accuracy score: 0.9259169732942998, \n",
      "Mean loss: 0.0177083053563595, \n",
      "Mean F1-score:0.7110986050620625\n",
      "\n",
      "Test set:\n",
      "\n",
      "Mean accuracy score: 0.9191845943114978, \n",
      "Mean loss: 0.019753981682915693, \n",
      "Mean F1-score:0.6732307422459566\n",
      "CPU times: user 1min 34s, sys: 9.34 s, total: 1min 44s\n",
      "Wall time: 1min 29s\n"
     ]
    }
   ],
   "metadata": {}
  },
  {
   "cell_type": "code",
   "execution_count": 21,
   "source": [
    "%%time\n",
    "\n",
    "# 4. Classifier Chains with LGBMClassifier\n",
    "cc_lgbm = ClassifierChain(LGBMClassifier())\n",
    "evaluate_model(cc_lg, X_train, Y_train, n_folds=3)"
   ],
   "outputs": [
    {
     "output_type": "stream",
     "name": "stdout",
     "text": [
      "Train set:\n",
      "\n",
      "Mean accuracy score: 0.9258543048729174, \n",
      "Mean loss: 0.017685923777294336, \n",
      "Mean F1-score:0.7114722414417155\n",
      "\n",
      "Test set:\n",
      "\n",
      "Mean accuracy score: 0.9188175364148291, \n",
      "Mean loss: 0.019840523788634337, \n",
      "Mean F1-score:0.6708251155426522\n",
      "CPU times: user 1min 30s, sys: 4.19 s, total: 1min 35s\n",
      "Wall time: 1min 17s\n"
     ]
    }
   ],
   "metadata": {}
  },
  {
   "cell_type": "markdown",
   "source": [
    "## Model Tuning and Evaluation"
   ],
   "metadata": {}
  },
  {
   "cell_type": "code",
   "execution_count": 22,
   "source": [
    "# Using labelled test set for models comparison\n",
    "x_test = tv.transform(test_labelled['comment_text'])\n",
    "y_test = test_labelled.iloc[:, 2:]\n",
    "print(x_test.shape, y_test.shape)"
   ],
   "outputs": [
    {
     "output_type": "stream",
     "name": "stdout",
     "text": [
      "(63978, 10000) (63978, 6)\n"
     ]
    }
   ],
   "metadata": {}
  },
  {
   "cell_type": "code",
   "execution_count": 23,
   "source": [
    "# 1. LogisticRegression\n",
    "lg = ClassifierChain(LogisticRegression(max_iter=1000, random_state=100))\n",
    "# Train on the whole train data set and predict for the labelled test set\n",
    "lg.fit(X, Y)  \n",
    "predicted = lg.predict(x_test)\n",
    "\n",
    "print(f'ROC AUC Score: {roc_auc_score(y_test, lg.predict_proba(x_test))}\\n\\n')\n",
    "print(f'Classification Report\\n'\n",
    "      f'{classification_report(y_test, predicted, target_names=labels)}')"
   ],
   "outputs": [
    {
     "output_type": "stream",
     "name": "stdout",
     "text": [
      "ROC AUC Score: 0.9636847796606922\n",
      "\n",
      "\n",
      "Classification Report\n",
      "               precision    recall  f1-score   support\n",
      "\n",
      "        toxic       0.64      0.71      0.67      6090\n",
      " severe_toxic       0.38      0.27      0.32       367\n",
      "      obscene       0.69      0.67      0.68      3691\n",
      "       threat       0.39      0.21      0.27       211\n",
      "       insult       0.59      0.60      0.59      3427\n",
      "identity_hate       0.70      0.28      0.40       712\n",
      "\n",
      "    micro avg       0.64      0.63      0.63     14498\n",
      "    macro avg       0.57      0.46      0.49     14498\n",
      " weighted avg       0.63      0.63      0.63     14498\n",
      "  samples avg       0.06      0.06      0.06     14498\n",
      "\n"
     ]
    }
   ],
   "metadata": {}
  },
  {
   "cell_type": "code",
   "execution_count": 24,
   "source": [
    "# 2. LogisticRegression with balanced class weights\n",
    "lg_balanced = ClassifierChain(LogisticRegression(max_iter=1000, \n",
    "                                                 random_state=100, \n",
    "                                                 class_weight='balanced'))\n",
    "lg_balanced.fit(X, Y)\n",
    "predicted = lg_balanced.predict(x_test)\n",
    "\n",
    "print(f'ROC AUC Score: {roc_auc_score(y_test, lg_balanced.predict_proba(x_test))}\\n\\n')\n",
    "print(f'Classification Report\\n'\n",
    "      f'{classification_report(y_test, predicted, target_names=labels)}')"
   ],
   "outputs": [
    {
     "output_type": "stream",
     "name": "stdout",
     "text": [
      "ROC AUC Score: 0.9643241058652073\n",
      "\n",
      "\n",
      "Classification Report\n",
      "               precision    recall  f1-score   support\n",
      "\n",
      "        toxic       0.41      0.91      0.56      6090\n",
      " severe_toxic       0.07      0.96      0.12       367\n",
      "      obscene       0.29      0.94      0.44      3691\n",
      "       threat       0.08      0.90      0.14       211\n",
      "       insult       0.25      0.94      0.39      3427\n",
      "identity_hate       0.06      0.95      0.12       712\n",
      "\n",
      "    micro avg       0.24      0.93      0.38     14498\n",
      "    macro avg       0.19      0.93      0.30     14498\n",
      " weighted avg       0.31      0.93      0.45     14498\n",
      "  samples avg       0.05      0.09      0.06     14498\n",
      "\n"
     ]
    }
   ],
   "metadata": {}
  },
  {
   "cell_type": "code",
   "execution_count": 25,
   "source": [
    "# 3. LGBMClassifier with default params\n",
    "lgbm = ClassifierChain(LGBMClassifier(num_leaves=31, random_state=100))\n",
    "lgbm.fit(X, Y)\n",
    "predicted = lgbm.predict(x_test)\n",
    "\n",
    "print(f'ROC AUC Score: {roc_auc_score(y_test, lgbm.predict_proba(x_test))}\\n\\n')\n",
    "print(f'Classification Report\\n'\n",
    "      f'{classification_report(y_test, predicted, target_names=labels)}')"
   ],
   "outputs": [
    {
     "output_type": "stream",
     "name": "stdout",
     "text": [
      "ROC AUC Score: 0.9125144179645769\n",
      "\n",
      "\n",
      "Classification Report\n",
      "               precision    recall  f1-score   support\n",
      "\n",
      "        toxic       0.61      0.72      0.66      6090\n",
      " severe_toxic       0.33      0.27      0.30       367\n",
      "      obscene       0.62      0.69      0.65      3691\n",
      "       threat       0.13      0.36      0.20       211\n",
      "       insult       0.52      0.62      0.57      3427\n",
      "identity_hate       0.63      0.36      0.45       712\n",
      "\n",
      "    micro avg       0.57      0.65      0.61     14498\n",
      "    macro avg       0.47      0.50      0.47     14498\n",
      " weighted avg       0.58      0.65      0.61     14498\n",
      "  samples avg       0.06      0.06      0.06     14498\n",
      "\n"
     ]
    }
   ],
   "metadata": {}
  },
  {
   "cell_type": "code",
   "execution_count": 26,
   "source": [
    "# 4. LGBMClassifier v2: with regularization\n",
    "lgbm2 = ClassifierChain(LGBMClassifier(num_leaves=31, reg_lambda=0.1, \n",
    "                                       random_state=100))\n",
    "lgbm2.fit(X, Y)\n",
    "predicted = lgbm2.predict(x_test)\n",
    "\n",
    "print(f'ROC AUC Score: {roc_auc_score(y_test, lgbm2.predict_proba(x_test))}\\n\\n')\n",
    "print(f'Classification Report\\n'\n",
    "      f'{classification_report(y_test, predicted, target_names=labels)}')"
   ],
   "outputs": [
    {
     "output_type": "stream",
     "name": "stdout",
     "text": [
      "ROC AUC Score: 0.9497787959350626\n",
      "\n",
      "\n",
      "Classification Report\n",
      "               precision    recall  f1-score   support\n",
      "\n",
      "        toxic       0.61      0.72      0.66      6090\n",
      " severe_toxic       0.32      0.26      0.29       367\n",
      "      obscene       0.62      0.69      0.65      3691\n",
      "       threat       0.36      0.34      0.35       211\n",
      "       insult       0.52      0.62      0.57      3427\n",
      "identity_hate       0.63      0.37      0.47       712\n",
      "\n",
      "    micro avg       0.58      0.65      0.62     14498\n",
      "    macro avg       0.51      0.50      0.50     14498\n",
      " weighted avg       0.58      0.65      0.61     14498\n",
      "  samples avg       0.06      0.06      0.06     14498\n",
      "\n"
     ]
    }
   ],
   "metadata": {}
  },
  {
   "cell_type": "code",
   "execution_count": 27,
   "source": [
    "# 5.  LGBMClassifier v3\n",
    "lgbm3 = ClassifierChain(LGBMClassifier(num_leaves=40, reg_lambda=0.2, \n",
    "                                       random_state=100))\n",
    "lgbm3.fit(X, Y)\n",
    "predicted = lgbm3.predict(x_test)\n",
    "\n",
    "print(f'ROC AUC Score: {roc_auc_score(y_test, lgbm3.predict_proba(x_test))}\\n\\n')\n",
    "print(f'Classification Report\\n'\n",
    "      f'{classification_report(y_test, predicted, target_names=labels)}')"
   ],
   "outputs": [
    {
     "output_type": "stream",
     "name": "stdout",
     "text": [
      "ROC AUC Score: 0.9486004171868928\n",
      "\n",
      "\n",
      "Classification Report\n",
      "               precision    recall  f1-score   support\n",
      "\n",
      "        toxic       0.60      0.75      0.67      6090\n",
      " severe_toxic       0.34      0.26      0.30       367\n",
      "      obscene       0.62      0.70      0.66      3691\n",
      "       threat       0.41      0.30      0.35       211\n",
      "       insult       0.53      0.63      0.58      3427\n",
      "identity_hate       0.63      0.38      0.48       712\n",
      "\n",
      "    micro avg       0.58      0.67      0.62     14498\n",
      "    macro avg       0.52      0.50      0.50     14498\n",
      " weighted avg       0.58      0.67      0.62     14498\n",
      "  samples avg       0.06      0.06      0.06     14498\n",
      "\n"
     ]
    }
   ],
   "metadata": {}
  },
  {
   "cell_type": "code",
   "execution_count": 28,
   "source": [
    "# 6.  LGBMClassifier v4\n",
    "lgbm4 = ClassifierChain(LGBMClassifier(num_leaves=60, reg_lambda=0.3, \n",
    "                                       random_state=100))\n",
    "lgbm4.fit(X, Y)\n",
    "predicted = lgbm4.predict(x_test)\n",
    "\n",
    "print(f'ROC AUC Score: {roc_auc_score(y_test, lgbm4.predict_proba(x_test))}\\n\\n')\n",
    "print(f'Classification Report\\n'\n",
    "      f'{classification_report(y_test, predicted, target_names=labels)}')"
   ],
   "outputs": [
    {
     "output_type": "stream",
     "name": "stdout",
     "text": [
      "ROC AUC Score: 0.9598266919533217\n",
      "\n",
      "\n",
      "Classification Report\n",
      "               precision    recall  f1-score   support\n",
      "\n",
      "        toxic       0.59      0.77      0.67      6090\n",
      " severe_toxic       0.34      0.27      0.30       367\n",
      "      obscene       0.61      0.71      0.66      3691\n",
      "       threat       0.38      0.29      0.33       211\n",
      "       insult       0.54      0.63      0.58      3427\n",
      "identity_hate       0.63      0.38      0.47       712\n",
      "\n",
      "    micro avg       0.58      0.68      0.63     14498\n",
      "    macro avg       0.51      0.51      0.50     14498\n",
      " weighted avg       0.58      0.68      0.62     14498\n",
      "  samples avg       0.07      0.06      0.06     14498\n",
      "\n"
     ]
    }
   ],
   "metadata": {}
  },
  {
   "cell_type": "markdown",
   "source": [
    "# Kaggle Submission"
   ],
   "metadata": {}
  },
  {
   "cell_type": "code",
   "execution_count": 29,
   "source": [
    "test_x = tv.transform(test['comment_text'])\n",
    "test_x.shape"
   ],
   "outputs": [
    {
     "output_type": "execute_result",
     "data": {
      "text/plain": [
       "(153164, 10000)"
      ]
     },
     "metadata": {},
     "execution_count": 29
    }
   ],
   "metadata": {}
  },
  {
   "cell_type": "code",
   "execution_count": 31,
   "source": [
    "# 1. lg\n",
    "lg_pred = lg.predict_proba(test_x)\n",
    "lg_pred = pd.DataFrame(lg_pred, columns=labels)\n",
    "lg_pred_df = pd.concat([test.id, lg_pred], axis=1)\n",
    "lg_pred_df.head()"
   ],
   "outputs": [
    {
     "output_type": "execute_result",
     "data": {
      "text/plain": [
       "                 id     toxic  severe_toxic   obscene    threat    insult  \\\n",
       "0  00001cee341fdb12  0.999080      0.252643  0.993132  0.058631  0.846011   \n",
       "1  0000247867823ef7  0.009938      0.000053  0.002282  0.000248  0.003736   \n",
       "2  00013b17ad220c46  0.012920      0.000039  0.001998  0.000152  0.003196   \n",
       "3  00017563c3f7919a  0.004935      0.000067  0.002675  0.000227  0.002329   \n",
       "4  00017695ad8997eb  0.039355      0.000043  0.002410  0.000244  0.003630   \n",
       "\n",
       "   identity_hate  \n",
       "0       0.400464  \n",
       "1       0.000622  \n",
       "2       0.000646  \n",
       "3       0.000270  \n",
       "4       0.000449  "
      ],
      "text/html": [
       "<div>\n",
       "<style scoped>\n",
       "    .dataframe tbody tr th:only-of-type {\n",
       "        vertical-align: middle;\n",
       "    }\n",
       "\n",
       "    .dataframe tbody tr th {\n",
       "        vertical-align: top;\n",
       "    }\n",
       "\n",
       "    .dataframe thead th {\n",
       "        text-align: right;\n",
       "    }\n",
       "</style>\n",
       "<table border=\"1\" class=\"dataframe\">\n",
       "  <thead>\n",
       "    <tr style=\"text-align: right;\">\n",
       "      <th></th>\n",
       "      <th>id</th>\n",
       "      <th>toxic</th>\n",
       "      <th>severe_toxic</th>\n",
       "      <th>obscene</th>\n",
       "      <th>threat</th>\n",
       "      <th>insult</th>\n",
       "      <th>identity_hate</th>\n",
       "    </tr>\n",
       "  </thead>\n",
       "  <tbody>\n",
       "    <tr>\n",
       "      <th>0</th>\n",
       "      <td>00001cee341fdb12</td>\n",
       "      <td>0.999080</td>\n",
       "      <td>0.252643</td>\n",
       "      <td>0.993132</td>\n",
       "      <td>0.058631</td>\n",
       "      <td>0.846011</td>\n",
       "      <td>0.400464</td>\n",
       "    </tr>\n",
       "    <tr>\n",
       "      <th>1</th>\n",
       "      <td>0000247867823ef7</td>\n",
       "      <td>0.009938</td>\n",
       "      <td>0.000053</td>\n",
       "      <td>0.002282</td>\n",
       "      <td>0.000248</td>\n",
       "      <td>0.003736</td>\n",
       "      <td>0.000622</td>\n",
       "    </tr>\n",
       "    <tr>\n",
       "      <th>2</th>\n",
       "      <td>00013b17ad220c46</td>\n",
       "      <td>0.012920</td>\n",
       "      <td>0.000039</td>\n",
       "      <td>0.001998</td>\n",
       "      <td>0.000152</td>\n",
       "      <td>0.003196</td>\n",
       "      <td>0.000646</td>\n",
       "    </tr>\n",
       "    <tr>\n",
       "      <th>3</th>\n",
       "      <td>00017563c3f7919a</td>\n",
       "      <td>0.004935</td>\n",
       "      <td>0.000067</td>\n",
       "      <td>0.002675</td>\n",
       "      <td>0.000227</td>\n",
       "      <td>0.002329</td>\n",
       "      <td>0.000270</td>\n",
       "    </tr>\n",
       "    <tr>\n",
       "      <th>4</th>\n",
       "      <td>00017695ad8997eb</td>\n",
       "      <td>0.039355</td>\n",
       "      <td>0.000043</td>\n",
       "      <td>0.002410</td>\n",
       "      <td>0.000244</td>\n",
       "      <td>0.003630</td>\n",
       "      <td>0.000449</td>\n",
       "    </tr>\n",
       "  </tbody>\n",
       "</table>\n",
       "</div>"
      ]
     },
     "metadata": {},
     "execution_count": 31
    }
   ],
   "metadata": {}
  },
  {
   "cell_type": "code",
   "execution_count": 32,
   "source": [
    "# 2. lg_balanced\n",
    "lg_balanced_pred = lg_balanced.predict_proba(test_x)\n",
    "lg_balanced_pred = pd.DataFrame(lg_balanced_pred, columns=labels)\n",
    "lg_balanced_pred_df = pd.concat([test.id, lg_balanced_pred], axis=1)\n",
    "lg_balanced_pred_df.head()"
   ],
   "outputs": [
    {
     "output_type": "execute_result",
     "data": {
      "text/plain": [
       "                 id     toxic  severe_toxic   obscene    threat    insult  \\\n",
       "0  00001cee341fdb12  0.999975      0.952884  0.999999  0.886003  0.998258   \n",
       "1  0000247867823ef7  0.036103      0.000117  0.003835  0.001832  0.044379   \n",
       "2  00013b17ad220c46  0.044768      0.000025  0.013203  0.000358  0.010908   \n",
       "3  00017563c3f7919a  0.017847      0.000314  0.010372  0.001306  0.004802   \n",
       "4  00017695ad8997eb  0.123038      0.000150  0.012722  0.002186  0.038796   \n",
       "\n",
       "   identity_hate  \n",
       "0       0.999028  \n",
       "1       0.003546  \n",
       "2       0.009923  \n",
       "3       0.001147  \n",
       "4       0.002364  "
      ],
      "text/html": [
       "<div>\n",
       "<style scoped>\n",
       "    .dataframe tbody tr th:only-of-type {\n",
       "        vertical-align: middle;\n",
       "    }\n",
       "\n",
       "    .dataframe tbody tr th {\n",
       "        vertical-align: top;\n",
       "    }\n",
       "\n",
       "    .dataframe thead th {\n",
       "        text-align: right;\n",
       "    }\n",
       "</style>\n",
       "<table border=\"1\" class=\"dataframe\">\n",
       "  <thead>\n",
       "    <tr style=\"text-align: right;\">\n",
       "      <th></th>\n",
       "      <th>id</th>\n",
       "      <th>toxic</th>\n",
       "      <th>severe_toxic</th>\n",
       "      <th>obscene</th>\n",
       "      <th>threat</th>\n",
       "      <th>insult</th>\n",
       "      <th>identity_hate</th>\n",
       "    </tr>\n",
       "  </thead>\n",
       "  <tbody>\n",
       "    <tr>\n",
       "      <th>0</th>\n",
       "      <td>00001cee341fdb12</td>\n",
       "      <td>0.999975</td>\n",
       "      <td>0.952884</td>\n",
       "      <td>0.999999</td>\n",
       "      <td>0.886003</td>\n",
       "      <td>0.998258</td>\n",
       "      <td>0.999028</td>\n",
       "    </tr>\n",
       "    <tr>\n",
       "      <th>1</th>\n",
       "      <td>0000247867823ef7</td>\n",
       "      <td>0.036103</td>\n",
       "      <td>0.000117</td>\n",
       "      <td>0.003835</td>\n",
       "      <td>0.001832</td>\n",
       "      <td>0.044379</td>\n",
       "      <td>0.003546</td>\n",
       "    </tr>\n",
       "    <tr>\n",
       "      <th>2</th>\n",
       "      <td>00013b17ad220c46</td>\n",
       "      <td>0.044768</td>\n",
       "      <td>0.000025</td>\n",
       "      <td>0.013203</td>\n",
       "      <td>0.000358</td>\n",
       "      <td>0.010908</td>\n",
       "      <td>0.009923</td>\n",
       "    </tr>\n",
       "    <tr>\n",
       "      <th>3</th>\n",
       "      <td>00017563c3f7919a</td>\n",
       "      <td>0.017847</td>\n",
       "      <td>0.000314</td>\n",
       "      <td>0.010372</td>\n",
       "      <td>0.001306</td>\n",
       "      <td>0.004802</td>\n",
       "      <td>0.001147</td>\n",
       "    </tr>\n",
       "    <tr>\n",
       "      <th>4</th>\n",
       "      <td>00017695ad8997eb</td>\n",
       "      <td>0.123038</td>\n",
       "      <td>0.000150</td>\n",
       "      <td>0.012722</td>\n",
       "      <td>0.002186</td>\n",
       "      <td>0.038796</td>\n",
       "      <td>0.002364</td>\n",
       "    </tr>\n",
       "  </tbody>\n",
       "</table>\n",
       "</div>"
      ]
     },
     "metadata": {},
     "execution_count": 32
    }
   ],
   "metadata": {}
  },
  {
   "cell_type": "code",
   "execution_count": 34,
   "source": [
    "# 3. lgbm model with selected parameters\n",
    "lgbm = ClassifierChain(LGBMClassifier(num_leaves=60, reg_lambda=0.3, \n",
    "                                      random_state=100))\n",
    "lgbm.fit(X, Y)\n",
    "lgbm_pred = lgbm.predict_proba(test_x)\n",
    "lgbm_pred = pd.DataFrame(lgbm_pred, columns=labels)\n",
    "lgbm_pred_df = pd.concat([test.id, lgbm_pred], axis=1)\n",
    "lgbm_pred_df.head()"
   ],
   "outputs": [
    {
     "output_type": "execute_result",
     "data": {
      "text/plain": [
       "                 id     toxic  severe_toxic   obscene    threat    insult  \\\n",
       "0  00001cee341fdb12  0.996717      0.226351  0.983514  0.018750  0.937079   \n",
       "1  0000247867823ef7  0.019485      0.000010  0.001207  0.000064  0.001376   \n",
       "2  00013b17ad220c46  0.023512      0.000010  0.001309  0.000025  0.001376   \n",
       "3  00017563c3f7919a  0.007282      0.000007  0.000929  0.000024  0.000839   \n",
       "4  00017695ad8997eb  0.032834      0.000008  0.000877  0.000048  0.000865   \n",
       "\n",
       "   identity_hate  \n",
       "0       0.179152  \n",
       "1       0.000150  \n",
       "2       0.000137  \n",
       "3       0.000022  \n",
       "4       0.000048  "
      ],
      "text/html": [
       "<div>\n",
       "<style scoped>\n",
       "    .dataframe tbody tr th:only-of-type {\n",
       "        vertical-align: middle;\n",
       "    }\n",
       "\n",
       "    .dataframe tbody tr th {\n",
       "        vertical-align: top;\n",
       "    }\n",
       "\n",
       "    .dataframe thead th {\n",
       "        text-align: right;\n",
       "    }\n",
       "</style>\n",
       "<table border=\"1\" class=\"dataframe\">\n",
       "  <thead>\n",
       "    <tr style=\"text-align: right;\">\n",
       "      <th></th>\n",
       "      <th>id</th>\n",
       "      <th>toxic</th>\n",
       "      <th>severe_toxic</th>\n",
       "      <th>obscene</th>\n",
       "      <th>threat</th>\n",
       "      <th>insult</th>\n",
       "      <th>identity_hate</th>\n",
       "    </tr>\n",
       "  </thead>\n",
       "  <tbody>\n",
       "    <tr>\n",
       "      <th>0</th>\n",
       "      <td>00001cee341fdb12</td>\n",
       "      <td>0.996717</td>\n",
       "      <td>0.226351</td>\n",
       "      <td>0.983514</td>\n",
       "      <td>0.018750</td>\n",
       "      <td>0.937079</td>\n",
       "      <td>0.179152</td>\n",
       "    </tr>\n",
       "    <tr>\n",
       "      <th>1</th>\n",
       "      <td>0000247867823ef7</td>\n",
       "      <td>0.019485</td>\n",
       "      <td>0.000010</td>\n",
       "      <td>0.001207</td>\n",
       "      <td>0.000064</td>\n",
       "      <td>0.001376</td>\n",
       "      <td>0.000150</td>\n",
       "    </tr>\n",
       "    <tr>\n",
       "      <th>2</th>\n",
       "      <td>00013b17ad220c46</td>\n",
       "      <td>0.023512</td>\n",
       "      <td>0.000010</td>\n",
       "      <td>0.001309</td>\n",
       "      <td>0.000025</td>\n",
       "      <td>0.001376</td>\n",
       "      <td>0.000137</td>\n",
       "    </tr>\n",
       "    <tr>\n",
       "      <th>3</th>\n",
       "      <td>00017563c3f7919a</td>\n",
       "      <td>0.007282</td>\n",
       "      <td>0.000007</td>\n",
       "      <td>0.000929</td>\n",
       "      <td>0.000024</td>\n",
       "      <td>0.000839</td>\n",
       "      <td>0.000022</td>\n",
       "    </tr>\n",
       "    <tr>\n",
       "      <th>4</th>\n",
       "      <td>00017695ad8997eb</td>\n",
       "      <td>0.032834</td>\n",
       "      <td>0.000008</td>\n",
       "      <td>0.000877</td>\n",
       "      <td>0.000048</td>\n",
       "      <td>0.000865</td>\n",
       "      <td>0.000048</td>\n",
       "    </tr>\n",
       "  </tbody>\n",
       "</table>\n",
       "</div>"
      ]
     },
     "metadata": {},
     "execution_count": 34
    }
   ],
   "metadata": {}
  },
  {
   "cell_type": "code",
   "execution_count": null,
   "source": [
    "# Save outputs to csv files for submission\n",
    "lg_pred_df.round(6).to_csv('lg_submission.csv', index=False)\n",
    "lg_balanced_pred_df.round(6).to_csv('lg_balanced_submission.csv', index=False)\n",
    "lgbm_pred_df.round(6).to_csv('lgbm_submission.csv', index=False)"
   ],
   "outputs": [],
   "metadata": {}
  }
 ],
 "metadata": {
  "interpreter": {
   "hash": "4e63be51ad6858dc03e3e9e368e91465e9fcd209f1d25885e200622923c955e2"
  },
  "kernelspec": {
   "name": "python3",
   "display_name": "Python 3.7.7 64-bit ('base': conda)"
  },
  "language_info": {
   "codemirror_mode": {
    "name": "ipython",
    "version": 3
   },
   "file_extension": ".py",
   "mimetype": "text/x-python",
   "name": "python",
   "nbconvert_exporter": "python",
   "pygments_lexer": "ipython3",
   "version": "3.7.7"
  }
 },
 "nbformat": 4,
 "nbformat_minor": 2
}